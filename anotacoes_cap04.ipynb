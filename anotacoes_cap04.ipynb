{
  "nbformat": 4,
  "nbformat_minor": 0,
  "metadata": {
    "colab": {
      "provenance": [],
      "authorship_tag": "ABX9TyPwc+s3DcuOGe6HOArp5OlO",
      "include_colab_link": true
    },
    "kernelspec": {
      "name": "python3",
      "display_name": "Python 3"
    },
    "language_info": {
      "name": "python"
    }
  },
  "cells": [
    {
      "cell_type": "markdown",
      "metadata": {
        "id": "view-in-github",
        "colab_type": "text"
      },
      "source": [
        "<a href=\"https://colab.research.google.com/github/cimarioazevedomedeiros/Python/blob/main/anotacoes_cap04.ipynb\" target=\"_parent\"><img src=\"https://colab.research.google.com/assets/colab-badge.svg\" alt=\"Open In Colab\"/></a>"
      ]
    },
    {
      "cell_type": "markdown",
      "source": [
        "Capítulo 4 - Linguagem Python Nível Introdutório - Variáveis, Tipo e Estruturas de dados"
      ],
      "metadata": {
        "id": "l9n1ueB0qjeg"
      }
    },
    {
      "cell_type": "markdown",
      "source": [
        "- Operações matermáticas"
      ],
      "metadata": {
        "id": "GogWzP9Isj2X"
      }
    },
    {
      "cell_type": "code",
      "source": [
        "# Soma\n",
        "4 + 4"
      ],
      "metadata": {
        "colab": {
          "base_uri": "https://localhost:8080/"
        },
        "id": "eg4iN0OxqkZT",
        "outputId": "01f3d363-7cfa-4e3f-a3b2-04abcb9f9bb3"
      },
      "execution_count": null,
      "outputs": [
        {
          "output_type": "execute_result",
          "data": {
            "text/plain": [
              "8"
            ]
          },
          "metadata": {},
          "execution_count": 1
        }
      ]
    },
    {
      "cell_type": "code",
      "execution_count": null,
      "metadata": {
        "colab": {
          "base_uri": "https://localhost:8080/"
        },
        "id": "heoqJa9qqSF-",
        "outputId": "98a2e550-30d6-491c-a511-c0af00426780"
      },
      "outputs": [
        {
          "output_type": "execute_result",
          "data": {
            "text/plain": [
              "1"
            ]
          },
          "metadata": {},
          "execution_count": 2
        }
      ],
      "source": [
        "# Subtração\n",
        "4-3"
      ]
    },
    {
      "cell_type": "code",
      "source": [
        "# Multiplicação\n",
        "3*3"
      ],
      "metadata": {
        "colab": {
          "base_uri": "https://localhost:8080/"
        },
        "id": "U0tITxuSsOSN",
        "outputId": "c946226a-67f2-4763-f228-ae63381b4534"
      },
      "execution_count": null,
      "outputs": [
        {
          "output_type": "execute_result",
          "data": {
            "text/plain": [
              "9"
            ]
          },
          "metadata": {},
          "execution_count": 3
        }
      ]
    },
    {
      "cell_type": "code",
      "source": [
        "# Potenciação\n",
        "4 ** 2"
      ],
      "metadata": {
        "colab": {
          "base_uri": "https://localhost:8080/"
        },
        "id": "UnKn2KFesScd",
        "outputId": "33baa1fd-0b0b-4637-9102-f728405747b1"
      },
      "execution_count": null,
      "outputs": [
        {
          "output_type": "execute_result",
          "data": {
            "text/plain": [
              "16"
            ]
          },
          "metadata": {},
          "execution_count": 4
        }
      ]
    },
    {
      "cell_type": "code",
      "source": [
        "# Divisão\n",
        "3 / 2\n"
      ],
      "metadata": {
        "colab": {
          "base_uri": "https://localhost:8080/"
        },
        "id": "TFw_XcCrsVl-",
        "outputId": "2eeeec36-1f6b-4728-93e0-5557c6b047ab"
      },
      "execution_count": null,
      "outputs": [
        {
          "output_type": "execute_result",
          "data": {
            "text/plain": [
              "1.5"
            ]
          },
          "metadata": {},
          "execution_count": 5
        }
      ]
    },
    {
      "cell_type": "code",
      "source": [
        "# Módulo -> Ele retorna o resto da divisão do operando da esquerda pelo operando da direita. Ele é usado para obter o resto de um problema de divisão.\n",
        "10 % 2"
      ],
      "metadata": {
        "colab": {
          "base_uri": "https://localhost:8080/"
        },
        "id": "T6pdXSlnsaOO",
        "outputId": "fa7016cf-c8d7-47ff-ded7-35c6395d6bbc"
      },
      "execution_count": null,
      "outputs": [
        {
          "output_type": "execute_result",
          "data": {
            "text/plain": [
              "0"
            ]
          },
          "metadata": {},
          "execution_count": 1
        }
      ]
    },
    {
      "cell_type": "markdown",
      "source": [
        "- Função Type\n",
        "\n",
        "  - Serve para verificar o tipo de dado que está no código\n",
        "  - Função é um bloco de código que executa algo"
      ],
      "metadata": {
        "id": "nrtwvrzUsnAJ"
      }
    },
    {
      "cell_type": "code",
      "source": [
        "type(5)"
      ],
      "metadata": {
        "colab": {
          "base_uri": "https://localhost:8080/"
        },
        "id": "6I6Cm3kIspeW",
        "outputId": "4ebecad9-fe25-4568-8e32-164f58541aa9"
      },
      "execution_count": null,
      "outputs": [
        {
          "output_type": "execute_result",
          "data": {
            "text/plain": [
              "int"
            ]
          },
          "metadata": {},
          "execution_count": 7
        }
      ]
    },
    {
      "cell_type": "code",
      "source": [
        "type(5.0)"
      ],
      "metadata": {
        "colab": {
          "base_uri": "https://localhost:8080/"
        },
        "id": "IZOBZgL2szn-",
        "outputId": "581468cd-ad8d-4a12-d58b-d8854eb036ea"
      },
      "execution_count": null,
      "outputs": [
        {
          "output_type": "execute_result",
          "data": {
            "text/plain": [
              "float"
            ]
          },
          "metadata": {},
          "execution_count": 8
        }
      ]
    },
    {
      "cell_type": "code",
      "source": [
        "a = 'Estou estudando da DSA'\n",
        "type(a)"
      ],
      "metadata": {
        "colab": {
          "base_uri": "https://localhost:8080/"
        },
        "id": "DIDRNHUgs13Z",
        "outputId": "dc8d83f6-a675-412a-bc6b-9a8b66321b4b"
      },
      "execution_count": null,
      "outputs": [
        {
          "output_type": "execute_result",
          "data": {
            "text/plain": [
              "str"
            ]
          },
          "metadata": {},
          "execution_count": 9
        }
      ]
    },
    {
      "cell_type": "markdown",
      "source": [
        " - Operações com números Float"
      ],
      "metadata": {
        "id": "pzv5VpaLtKJJ"
      }
    },
    {
      "cell_type": "code",
      "source": [
        "3.1 + 6.4"
      ],
      "metadata": {
        "colab": {
          "base_uri": "https://localhost:8080/"
        },
        "id": "clOEh6bvG8Ui",
        "outputId": "48f8e6b8-6b17-48b0-8e3b-edc8662cff58"
      },
      "execution_count": null,
      "outputs": [
        {
          "output_type": "execute_result",
          "data": {
            "text/plain": [
              "9.5"
            ]
          },
          "metadata": {},
          "execution_count": 1
        }
      ]
    },
    {
      "cell_type": "code",
      "source": [
        "# Operação com número inteiro + float = float\n",
        "4 + 4.0"
      ],
      "metadata": {
        "colab": {
          "base_uri": "https://localhost:8080/"
        },
        "id": "JVLO0xUnHMBC",
        "outputId": "815f93d6-36ad-4c5b-b0fa-4b3ca9dea1a6"
      },
      "execution_count": null,
      "outputs": [
        {
          "output_type": "execute_result",
          "data": {
            "text/plain": [
              "8.0"
            ]
          },
          "metadata": {},
          "execution_count": 2
        }
      ]
    },
    {
      "cell_type": "code",
      "source": [
        "4 + 4"
      ],
      "metadata": {
        "colab": {
          "base_uri": "https://localhost:8080/"
        },
        "id": "fx4c5IS5HPK2",
        "outputId": "df9f84bf-3d5f-4ab9-aee1-2258bd56577f"
      },
      "execution_count": null,
      "outputs": [
        {
          "output_type": "execute_result",
          "data": {
            "text/plain": [
              "8"
            ]
          },
          "metadata": {},
          "execution_count": 3
        }
      ]
    },
    {
      "cell_type": "code",
      "source": [
        "# Divisão em Python da float\n",
        "4 / 2"
      ],
      "metadata": {
        "colab": {
          "base_uri": "https://localhost:8080/"
        },
        "id": "f2I3GdwxHW0w",
        "outputId": "5c12bddc-6b6c-4f3c-ff4b-a03e004a83be"
      },
      "execution_count": null,
      "outputs": [
        {
          "output_type": "execute_result",
          "data": {
            "text/plain": [
              "2.0"
            ]
          },
          "metadata": {},
          "execution_count": 4
        }
      ]
    },
    {
      "cell_type": "code",
      "source": [
        "# Para que um resultado de uma divisão fique do tipo inteiro, é necessário usar o seguinte operador.\n",
        "4 // 2"
      ],
      "metadata": {
        "colab": {
          "base_uri": "https://localhost:8080/"
        },
        "id": "cTDp-TGeHkq5",
        "outputId": "de484b33-2302-439a-b88b-58859d0f9a6f"
      },
      "execution_count": null,
      "outputs": [
        {
          "output_type": "execute_result",
          "data": {
            "text/plain": [
              "2"
            ]
          },
          "metadata": {},
          "execution_count": 5
        }
      ]
    },
    {
      "cell_type": "markdown",
      "source": [
        "- Conversão"
      ],
      "metadata": {
        "id": "YRidoAp1HsJB"
      }
    },
    {
      "cell_type": "code",
      "source": [
        "float(9)"
      ],
      "metadata": {
        "colab": {
          "base_uri": "https://localhost:8080/"
        },
        "id": "k1uJWDsNHuM1",
        "outputId": "d555b9a4-8b1c-430e-e1f5-abbf0fe63fdf"
      },
      "execution_count": null,
      "outputs": [
        {
          "output_type": "execute_result",
          "data": {
            "text/plain": [
              "9.0"
            ]
          },
          "metadata": {},
          "execution_count": 6
        }
      ]
    },
    {
      "cell_type": "code",
      "source": [
        "int(6.0)"
      ],
      "metadata": {
        "colab": {
          "base_uri": "https://localhost:8080/"
        },
        "id": "lNgZ0gPjH2xd",
        "outputId": "150cd117-c519-4378-c87b-9a71eb15af6a"
      },
      "execution_count": null,
      "outputs": [
        {
          "output_type": "execute_result",
          "data": {
            "text/plain": [
              "6"
            ]
          },
          "metadata": {},
          "execution_count": 7
        }
      ]
    },
    {
      "cell_type": "code",
      "source": [
        "int(6.5)"
      ],
      "metadata": {
        "colab": {
          "base_uri": "https://localhost:8080/"
        },
        "id": "8hx-fwYQH5H9",
        "outputId": "2d6383f2-130f-48c4-be5c-92a750abc637"
      },
      "execution_count": null,
      "outputs": [
        {
          "output_type": "execute_result",
          "data": {
            "text/plain": [
              "6"
            ]
          },
          "metadata": {},
          "execution_count": 8
        }
      ]
    },
    {
      "cell_type": "markdown",
      "source": [
        "- Hexadecimal e binário"
      ],
      "metadata": {
        "id": "r2mIQEGoIP6z"
      }
    },
    {
      "cell_type": "code",
      "source": [
        "hex(394)"
      ],
      "metadata": {
        "colab": {
          "base_uri": "https://localhost:8080/",
          "height": 35
        },
        "id": "5NJO9uAzIPMU",
        "outputId": "0f1977b1-b1cb-4c67-c347-c02f1153259f"
      },
      "execution_count": null,
      "outputs": [
        {
          "output_type": "execute_result",
          "data": {
            "text/plain": [
              "'0x18a'"
            ],
            "application/vnd.google.colaboratory.intrinsic+json": {
              "type": "string"
            }
          },
          "metadata": {},
          "execution_count": 9
        }
      ]
    },
    {
      "cell_type": "code",
      "source": [
        "hex(217)"
      ],
      "metadata": {
        "colab": {
          "base_uri": "https://localhost:8080/",
          "height": 35
        },
        "id": "090sDq7vIWIj",
        "outputId": "d998bdc0-f637-4cf3-c43d-401b7d6874cc"
      },
      "execution_count": null,
      "outputs": [
        {
          "output_type": "execute_result",
          "data": {
            "text/plain": [
              "'0xd9'"
            ],
            "application/vnd.google.colaboratory.intrinsic+json": {
              "type": "string"
            }
          },
          "metadata": {},
          "execution_count": 10
        }
      ]
    },
    {
      "cell_type": "code",
      "source": [
        "bin(286)"
      ],
      "metadata": {
        "colab": {
          "base_uri": "https://localhost:8080/",
          "height": 35
        },
        "id": "L6ngv7E5IYsW",
        "outputId": "cdb39cd6-fa5b-4167-cba8-449bf0b41a00"
      },
      "execution_count": null,
      "outputs": [
        {
          "output_type": "execute_result",
          "data": {
            "text/plain": [
              "'0b100011110'"
            ],
            "application/vnd.google.colaboratory.intrinsic+json": {
              "type": "string"
            }
          },
          "metadata": {},
          "execution_count": 11
        }
      ]
    },
    {
      "cell_type": "code",
      "source": [
        "bin(390)"
      ],
      "metadata": {
        "colab": {
          "base_uri": "https://localhost:8080/",
          "height": 35
        },
        "id": "dux9udkGIdk6",
        "outputId": "d6977fa2-aaa1-4a97-9c45-8a04a8fb725a"
      },
      "execution_count": null,
      "outputs": [
        {
          "output_type": "execute_result",
          "data": {
            "text/plain": [
              "'0b110000110'"
            ],
            "application/vnd.google.colaboratory.intrinsic+json": {
              "type": "string"
            }
          },
          "metadata": {},
          "execution_count": 12
        }
      ]
    },
    {
      "cell_type": "markdown",
      "source": [
        "- Funções abs, round e pow"
      ],
      "metadata": {
        "id": "usMqlFMTIfhj"
      }
    },
    {
      "cell_type": "code",
      "source": [
        "# Retorna um valor absoluto\n",
        "abs(-8)"
      ],
      "metadata": {
        "colab": {
          "base_uri": "https://localhost:8080/"
        },
        "id": "yLUjqeKGIjJU",
        "outputId": "badbfc01-63cc-4c60-a87c-b0dcb8fb2dbf"
      },
      "execution_count": null,
      "outputs": [
        {
          "output_type": "execute_result",
          "data": {
            "text/plain": [
              "8"
            ]
          },
          "metadata": {},
          "execution_count": 13
        }
      ]
    },
    {
      "cell_type": "code",
      "source": [
        "# Retorna um valor absoluto\n",
        "abs(8)"
      ],
      "metadata": {
        "colab": {
          "base_uri": "https://localhost:8080/"
        },
        "id": "m3xqaXvwIreM",
        "outputId": "98d18238-4d5d-494c-c758-226c3561f34a"
      },
      "execution_count": null,
      "outputs": [
        {
          "output_type": "execute_result",
          "data": {
            "text/plain": [
              "8"
            ]
          },
          "metadata": {},
          "execution_count": 14
        }
      ]
    },
    {
      "cell_type": "code",
      "source": [
        "# Retorna o valor com X casas decimais\n",
        "round(3.14151922, 2)"
      ],
      "metadata": {
        "colab": {
          "base_uri": "https://localhost:8080/"
        },
        "id": "8pVujcQ1IyjW",
        "outputId": "cc3fed3c-34b9-486a-b664-26772332d9c3"
      },
      "execution_count": null,
      "outputs": [
        {
          "output_type": "execute_result",
          "data": {
            "text/plain": [
              "3.14"
            ]
          },
          "metadata": {},
          "execution_count": 3
        }
      ]
    },
    {
      "cell_type": "code",
      "source": [
        "# Potência\n",
        "\n",
        "pow(4,2)"
      ],
      "metadata": {
        "colab": {
          "base_uri": "https://localhost:8080/"
        },
        "id": "k0TFUNG5I_oE",
        "outputId": "9c160314-96be-417a-b1cc-809b73ecdb8b"
      },
      "execution_count": null,
      "outputs": [
        {
          "output_type": "execute_result",
          "data": {
            "text/plain": [
              "16"
            ]
          },
          "metadata": {},
          "execution_count": 16
        }
      ]
    },
    {
      "cell_type": "markdown",
      "source": [
        "- Variáveis e operadores"
      ],
      "metadata": {
        "id": "M4wBfyC9JFJe"
      }
    },
    {
      "cell_type": "code",
      "source": [
        "# Atribuindo o valor 1 à variável var_teste.\n",
        "# Quando se executa esse comando, a função cria um espaço na memória do computador para ser utilizada quando chamada.\n",
        "# É preciso definir uma variável antes.\n",
        "# Python tem tipificação dinâmica - a própria linguagem faz a leitura do tipo de dado.\n",
        "\n",
        "var_teste = 1"
      ],
      "metadata": {
        "id": "QH3l_FTdJVI1"
      },
      "execution_count": null,
      "outputs": []
    },
    {
      "cell_type": "code",
      "source": [
        "var_teste"
      ],
      "metadata": {
        "colab": {
          "base_uri": "https://localhost:8080/"
        },
        "id": "3WYiTeMTJqRJ",
        "outputId": "33c9be4a-a5dc-4650-de70-dbd6288984ca"
      },
      "execution_count": null,
      "outputs": [
        {
          "output_type": "execute_result",
          "data": {
            "text/plain": [
              "1"
            ]
          },
          "metadata": {},
          "execution_count": 19
        }
      ]
    },
    {
      "cell_type": "code",
      "source": [
        "print(var_teste)"
      ],
      "metadata": {
        "colab": {
          "base_uri": "https://localhost:8080/"
        },
        "id": "4TdiEk9NJ2jL",
        "outputId": "221c4b47-6ebe-4c36-f427-1682ab35fb8d"
      },
      "execution_count": null,
      "outputs": [
        {
          "output_type": "stream",
          "name": "stdout",
          "text": [
            "1\n"
          ]
        }
      ]
    },
    {
      "cell_type": "code",
      "source": [
        "# Ele subscreve na variável\n",
        "var_teste = 2"
      ],
      "metadata": {
        "id": "qEHTJLFDKBpD"
      },
      "execution_count": null,
      "outputs": []
    },
    {
      "cell_type": "code",
      "source": [
        "type(var_teste)"
      ],
      "metadata": {
        "colab": {
          "base_uri": "https://localhost:8080/"
        },
        "id": "CpHJC_XjKUQ6",
        "outputId": "f5cef99e-3b49-48d5-ede4-e6fe7066012f"
      },
      "execution_count": null,
      "outputs": [
        {
          "output_type": "execute_result",
          "data": {
            "text/plain": [
              "int"
            ]
          },
          "metadata": {},
          "execution_count": 23
        }
      ]
    },
    {
      "cell_type": "code",
      "source": [
        "var_teste = 9.5"
      ],
      "metadata": {
        "id": "_kt6D0wrKrAS"
      },
      "execution_count": null,
      "outputs": []
    },
    {
      "cell_type": "code",
      "source": [
        "type(var_teste)"
      ],
      "metadata": {
        "colab": {
          "base_uri": "https://localhost:8080/"
        },
        "id": "ASf6Ji4CKvl4",
        "outputId": "9dfc37cc-4fdd-4031-8f1c-76bb4c8fdace"
      },
      "execution_count": null,
      "outputs": [
        {
          "output_type": "execute_result",
          "data": {
            "text/plain": [
              "float"
            ]
          },
          "metadata": {},
          "execution_count": 26
        }
      ]
    },
    {
      "cell_type": "code",
      "source": [
        "x = 1"
      ],
      "metadata": {
        "id": "m4nXUMk9K0Fi"
      },
      "execution_count": null,
      "outputs": []
    },
    {
      "cell_type": "code",
      "source": [
        "x"
      ],
      "metadata": {
        "colab": {
          "base_uri": "https://localhost:8080/"
        },
        "id": "v2KCDqyKK694",
        "outputId": "5dd6bfd5-9dbb-4168-c660-1d8260842894"
      },
      "execution_count": null,
      "outputs": [
        {
          "output_type": "execute_result",
          "data": {
            "text/plain": [
              "1"
            ]
          },
          "metadata": {},
          "execution_count": 28
        }
      ]
    },
    {
      "cell_type": "markdown",
      "source": [
        "- Declaração mútipla"
      ],
      "metadata": {
        "id": "NyYJsVRAK8pr"
      }
    },
    {
      "cell_type": "code",
      "source": [
        "# É diferente de uma lista, onde eu tenho uma variável com vários tipos de dados. Aqui eu tenho três variáveis, três dados.\n",
        "pessoa1, pessoa2, pessoa3 = \"Bob\", \"Maria\", \"Ana\""
      ],
      "metadata": {
        "id": "tGixaVoOLEvi"
      },
      "execution_count": null,
      "outputs": []
    },
    {
      "cell_type": "code",
      "source": [
        "pessoa1"
      ],
      "metadata": {
        "colab": {
          "base_uri": "https://localhost:8080/",
          "height": 35
        },
        "id": "v97IQxGoLKzv",
        "outputId": "e65a5f67-0de4-43cf-eede-95b56062d2f1"
      },
      "execution_count": null,
      "outputs": [
        {
          "output_type": "execute_result",
          "data": {
            "text/plain": [
              "'Bob'"
            ],
            "application/vnd.google.colaboratory.intrinsic+json": {
              "type": "string"
            }
          },
          "metadata": {},
          "execution_count": 30
        }
      ]
    },
    {
      "cell_type": "code",
      "source": [
        "pessoa2"
      ],
      "metadata": {
        "colab": {
          "base_uri": "https://localhost:8080/",
          "height": 35
        },
        "id": "Tw-8RB9LLNCy",
        "outputId": "200b4e4b-75bc-49f0-b85c-064f9c6607f8"
      },
      "execution_count": null,
      "outputs": [
        {
          "output_type": "execute_result",
          "data": {
            "text/plain": [
              "'Maria'"
            ],
            "application/vnd.google.colaboratory.intrinsic+json": {
              "type": "string"
            }
          },
          "metadata": {},
          "execution_count": 31
        }
      ]
    },
    {
      "cell_type": "code",
      "source": [
        "pessoa3"
      ],
      "metadata": {
        "colab": {
          "base_uri": "https://localhost:8080/",
          "height": 35
        },
        "id": "BU8EtxAcLO84",
        "outputId": "61df6088-e2b8-4a0f-81dc-0c07432f450c"
      },
      "execution_count": null,
      "outputs": [
        {
          "output_type": "execute_result",
          "data": {
            "text/plain": [
              "'Ana'"
            ],
            "application/vnd.google.colaboratory.intrinsic+json": {
              "type": "string"
            }
          },
          "metadata": {},
          "execution_count": 32
        }
      ]
    },
    {
      "cell_type": "code",
      "source": [
        "fruta1 = fruta2 = fruta3 = \"Melancia\""
      ],
      "metadata": {
        "id": "qhwiRoHoLUuF"
      },
      "execution_count": null,
      "outputs": []
    },
    {
      "cell_type": "code",
      "source": [
        "fruta1"
      ],
      "metadata": {
        "colab": {
          "base_uri": "https://localhost:8080/",
          "height": 35
        },
        "id": "AQUzX7UFLbW3",
        "outputId": "9c2af6dc-9fde-483e-e24b-3ad24e3070ff"
      },
      "execution_count": null,
      "outputs": [
        {
          "output_type": "execute_result",
          "data": {
            "text/plain": [
              "'Melancia'"
            ],
            "application/vnd.google.colaboratory.intrinsic+json": {
              "type": "string"
            }
          },
          "metadata": {},
          "execution_count": 35
        }
      ]
    },
    {
      "cell_type": "code",
      "source": [
        "fruta2"
      ],
      "metadata": {
        "colab": {
          "base_uri": "https://localhost:8080/",
          "height": 35
        },
        "id": "_t3zIDn5Lg0l",
        "outputId": "8e562b45-8f1e-46ea-96c5-9cdabd2a4792"
      },
      "execution_count": null,
      "outputs": [
        {
          "output_type": "execute_result",
          "data": {
            "text/plain": [
              "'Melancia'"
            ],
            "application/vnd.google.colaboratory.intrinsic+json": {
              "type": "string"
            }
          },
          "metadata": {},
          "execution_count": 36
        }
      ]
    },
    {
      "cell_type": "code",
      "source": [
        "fruta3"
      ],
      "metadata": {
        "colab": {
          "base_uri": "https://localhost:8080/",
          "height": 35
        },
        "id": "7Vd8QtXoLjnx",
        "outputId": "63c2a770-7126-4960-c02f-01eb326fe9ad"
      },
      "execution_count": null,
      "outputs": [
        {
          "output_type": "execute_result",
          "data": {
            "text/plain": [
              "'Melancia'"
            ],
            "application/vnd.google.colaboratory.intrinsic+json": {
              "type": "string"
            }
          },
          "metadata": {},
          "execution_count": 37
        }
      ]
    },
    {
      "cell_type": "code",
      "source": [
        "# A linguagem Python é case-sensitive. Ou seja, tem diferença entre maiúsculo e minúsculo\n",
        "# Pode-se usar letras, números e underline em nome de variável (mas não se pode começar com números)\n",
        "# Não pode usar palavras reservadas como variável"
      ],
      "metadata": {
        "id": "s0ZjPYOxLmXj"
      },
      "execution_count": null,
      "outputs": []
    },
    {
      "cell_type": "markdown",
      "source": [
        "- Variáveis atribuídas a outras variáveis e ordem de operadores"
      ],
      "metadata": {
        "id": "GiipM8f6N1Mm"
      }
    },
    {
      "cell_type": "code",
      "source": [
        "largura = 2"
      ],
      "metadata": {
        "id": "iqiYFMK5LxwX"
      },
      "execution_count": null,
      "outputs": []
    },
    {
      "cell_type": "code",
      "source": [
        "altura = 4"
      ],
      "metadata": {
        "id": "tyXrqAK_OFS0"
      },
      "execution_count": null,
      "outputs": []
    },
    {
      "cell_type": "code",
      "source": [
        "area = largura * altura"
      ],
      "metadata": {
        "id": "2i3UBT8IOMzN"
      },
      "execution_count": null,
      "outputs": []
    },
    {
      "cell_type": "code",
      "source": [
        "area"
      ],
      "metadata": {
        "colab": {
          "base_uri": "https://localhost:8080/"
        },
        "id": "dw-6H_8qOQZr",
        "outputId": "7d4bc3e1-ed26-448f-ac28-9782e8d55512"
      },
      "execution_count": null,
      "outputs": [
        {
          "output_type": "execute_result",
          "data": {
            "text/plain": [
              "8"
            ]
          },
          "metadata": {},
          "execution_count": 42
        }
      ]
    },
    {
      "cell_type": "code",
      "source": [
        "perimetro = 2 * largura + 2 * altura\n",
        "\n",
        "# A ordem dos operadores é a mesma seguida na Matemática"
      ],
      "metadata": {
        "id": "Uog9SsgkOV0M"
      },
      "execution_count": null,
      "outputs": []
    },
    {
      "cell_type": "code",
      "source": [
        "perimetro"
      ],
      "metadata": {
        "colab": {
          "base_uri": "https://localhost:8080/"
        },
        "id": "hNWg4SugOa0b",
        "outputId": "5db7f76c-b5e2-48c9-85df-ecb353877877"
      },
      "execution_count": null,
      "outputs": [
        {
          "output_type": "execute_result",
          "data": {
            "text/plain": [
              "12"
            ]
          },
          "metadata": {},
          "execution_count": 44
        }
      ]
    },
    {
      "cell_type": "markdown",
      "source": [
        "- Operações com variáveis"
      ],
      "metadata": {
        "id": "jIXXfmKQO4tq"
      }
    },
    {
      "cell_type": "code",
      "source": [
        "idade1 = 25"
      ],
      "metadata": {
        "id": "XEodhrgXOhxb"
      },
      "execution_count": null,
      "outputs": []
    },
    {
      "cell_type": "code",
      "source": [
        "idade2 = 35"
      ],
      "metadata": {
        "id": "qtjlRv4uPAOT"
      },
      "execution_count": null,
      "outputs": []
    },
    {
      "cell_type": "code",
      "source": [
        "idade1 + idade2"
      ],
      "metadata": {
        "colab": {
          "base_uri": "https://localhost:8080/"
        },
        "id": "S3UNKhbyPCC0",
        "outputId": "104e4cad-8e91-4e28-ee06-d57b55f36d32"
      },
      "execution_count": null,
      "outputs": [
        {
          "output_type": "execute_result",
          "data": {
            "text/plain": [
              "60"
            ]
          },
          "metadata": {},
          "execution_count": 48
        }
      ]
    },
    {
      "cell_type": "code",
      "source": [
        "idade2 - idade1"
      ],
      "metadata": {
        "colab": {
          "base_uri": "https://localhost:8080/"
        },
        "id": "ltyAvW2BPDzs",
        "outputId": "bb791bab-a6fe-4b0b-a45e-e0363c31c46c"
      },
      "execution_count": null,
      "outputs": [
        {
          "output_type": "execute_result",
          "data": {
            "text/plain": [
              "10"
            ]
          },
          "metadata": {},
          "execution_count": 49
        }
      ]
    },
    {
      "cell_type": "code",
      "source": [
        "idade2 * idade1"
      ],
      "metadata": {
        "colab": {
          "base_uri": "https://localhost:8080/"
        },
        "id": "UoUUqXevPGFQ",
        "outputId": "1efd7a9d-3aac-451b-9c1d-c42d08904cde"
      },
      "execution_count": null,
      "outputs": [
        {
          "output_type": "execute_result",
          "data": {
            "text/plain": [
              "875"
            ]
          },
          "metadata": {},
          "execution_count": 50
        }
      ]
    },
    {
      "cell_type": "code",
      "source": [
        "idade2 / idade1"
      ],
      "metadata": {
        "colab": {
          "base_uri": "https://localhost:8080/"
        },
        "id": "R957wTh6PJ43",
        "outputId": "4a614a00-8c5f-47a1-ca47-d6ceb7268cf0"
      },
      "execution_count": null,
      "outputs": [
        {
          "output_type": "execute_result",
          "data": {
            "text/plain": [
              "1.4"
            ]
          },
          "metadata": {},
          "execution_count": 51
        }
      ]
    },
    {
      "cell_type": "code",
      "source": [
        "idade2 % idade1"
      ],
      "metadata": {
        "colab": {
          "base_uri": "https://localhost:8080/"
        },
        "id": "hiAZAnorPLqO",
        "outputId": "ce04932c-51a6-45eb-dc21-087a15cddc61"
      },
      "execution_count": null,
      "outputs": [
        {
          "output_type": "execute_result",
          "data": {
            "text/plain": [
              "10"
            ]
          },
          "metadata": {},
          "execution_count": 52
        }
      ]
    },
    {
      "cell_type": "markdown",
      "source": [
        "- Concatenação de Variáveis"
      ],
      "metadata": {
        "id": "CBNlA7mRPWnz"
      }
    },
    {
      "cell_type": "code",
      "source": [
        "nome = \"Bob\""
      ],
      "metadata": {
        "id": "lgjpoPd8Pclo"
      },
      "execution_count": null,
      "outputs": []
    },
    {
      "cell_type": "code",
      "source": [
        "sobrenome = \"Marley\""
      ],
      "metadata": {
        "id": "iDkJ3Mz8PenS"
      },
      "execution_count": null,
      "outputs": []
    },
    {
      "cell_type": "code",
      "source": [
        "# As aspas serviram apenas para separar os nomes.\n",
        "fullName = nome + ' ' + sobrenome"
      ],
      "metadata": {
        "id": "7yCm7O1IPg-j"
      },
      "execution_count": null,
      "outputs": []
    },
    {
      "cell_type": "code",
      "source": [
        "fullName"
      ],
      "metadata": {
        "colab": {
          "base_uri": "https://localhost:8080/",
          "height": 35
        },
        "id": "EMcETLcaPxdJ",
        "outputId": "1a54bb42-fcdb-438b-f9a1-5ed0fefb929a"
      },
      "execution_count": null,
      "outputs": [
        {
          "output_type": "execute_result",
          "data": {
            "text/plain": [
              "'Bob Marley'"
            ],
            "application/vnd.google.colaboratory.intrinsic+json": {
              "type": "string"
            }
          },
          "metadata": {},
          "execution_count": 13
        }
      ]
    },
    {
      "cell_type": "markdown",
      "source": [
        "- Strings e indexação"
      ],
      "metadata": {
        "id": "L-Y-gHcQP_3w"
      }
    },
    {
      "cell_type": "code",
      "source": [
        "# String é definido por estar entre aspas\n",
        "'Oi'"
      ],
      "metadata": {
        "colab": {
          "base_uri": "https://localhost:8080/",
          "height": 35
        },
        "id": "tPWi_6ekQD2Q",
        "outputId": "deecaa6b-da4e-4601-9be0-3085758a1312"
      },
      "execution_count": null,
      "outputs": [
        {
          "output_type": "execute_result",
          "data": {
            "text/plain": [
              "'Oi'"
            ],
            "application/vnd.google.colaboratory.intrinsic+json": {
              "type": "string"
            }
          },
          "metadata": {},
          "execution_count": 62
        }
      ]
    },
    {
      "cell_type": "code",
      "source": [
        "# Você pode combinar aspas duplas e simples\n",
        "\"Testando strings em 'Python'\""
      ],
      "metadata": {
        "colab": {
          "base_uri": "https://localhost:8080/",
          "height": 35
        },
        "id": "a0lAR1g7QV3c",
        "outputId": "f36c9b46-e626-42b0-c902-ea9661a3f217"
      },
      "execution_count": null,
      "outputs": [
        {
          "output_type": "execute_result",
          "data": {
            "text/plain": [
              "\"Testando strings em 'Python'\""
            ],
            "application/vnd.google.colaboratory.intrinsic+json": {
              "type": "string"
            }
          },
          "metadata": {},
          "execution_count": 63
        }
      ]
    },
    {
      "cell_type": "markdown",
      "source": [
        "- Imprimindo uma string"
      ],
      "metadata": {
        "id": "pQlwQumzQo8S"
      }
    },
    {
      "cell_type": "code",
      "source": [
        "print(\"Testando Strings em Python\")"
      ],
      "metadata": {
        "colab": {
          "base_uri": "https://localhost:8080/"
        },
        "id": "IHrH9fVkQuXF",
        "outputId": "cd2b6421-b83e-4cc7-fda1-63ba01d1694c"
      },
      "execution_count": null,
      "outputs": [
        {
          "output_type": "stream",
          "name": "stdout",
          "text": [
            "Testando Strings em Python\n"
          ]
        }
      ]
    },
    {
      "cell_type": "code",
      "source": [
        "print('Testando \\n Strings \\n em \\n Python')"
      ],
      "metadata": {
        "colab": {
          "base_uri": "https://localhost:8080/"
        },
        "id": "bNXbWicNQzJW",
        "outputId": "feda2aff-2928-471c-b3d9-5373978279f7"
      },
      "execution_count": null,
      "outputs": [
        {
          "output_type": "stream",
          "name": "stdout",
          "text": [
            "Testando \n",
            "Strings \n",
            "em \n",
            "Python\n"
          ]
        }
      ]
    },
    {
      "cell_type": "code",
      "source": [
        "print('\\n')"
      ],
      "metadata": {
        "id": "u8QiAyzwQ8bX"
      },
      "execution_count": null,
      "outputs": []
    },
    {
      "cell_type": "markdown",
      "source": [
        "- Indexando Strings"
      ],
      "metadata": {
        "id": "nK_BejL8REoL"
      }
    },
    {
      "cell_type": "code",
      "source": [
        "s = 'Data Science Academy'"
      ],
      "metadata": {
        "id": "ErKmWG9tRHwM"
      },
      "execution_count": null,
      "outputs": []
    },
    {
      "cell_type": "code",
      "source": [
        "print(s)"
      ],
      "metadata": {
        "colab": {
          "base_uri": "https://localhost:8080/"
        },
        "id": "6-6n4-oDRbAX",
        "outputId": "9ddd7007-e70b-4ca8-e0ad-5c24c933799c"
      },
      "execution_count": null,
      "outputs": [
        {
          "output_type": "stream",
          "name": "stdout",
          "text": [
            "Data Science Academy\n"
          ]
        }
      ]
    },
    {
      "cell_type": "code",
      "source": [
        "## Índice\n",
        "## A indexação em Python começa com 0\n",
        "\n",
        "s[0]"
      ],
      "metadata": {
        "colab": {
          "base_uri": "https://localhost:8080/",
          "height": 35
        },
        "id": "o4G_tVkSRfFX",
        "outputId": "1c18379f-ab81-4bfb-9656-ab0c382fce5a"
      },
      "execution_count": null,
      "outputs": [
        {
          "output_type": "execute_result",
          "data": {
            "text/plain": [
              "'D'"
            ],
            "application/vnd.google.colaboratory.intrinsic+json": {
              "type": "string"
            }
          },
          "metadata": {},
          "execution_count": 73
        }
      ]
    },
    {
      "cell_type": "code",
      "source": [
        "s[1]"
      ],
      "metadata": {
        "colab": {
          "base_uri": "https://localhost:8080/",
          "height": 35
        },
        "id": "blq3jo6eRnns",
        "outputId": "e8bb5a2a-0b59-4922-c802-b6f2446ccab2"
      },
      "execution_count": null,
      "outputs": [
        {
          "output_type": "execute_result",
          "data": {
            "text/plain": [
              "'a'"
            ],
            "application/vnd.google.colaboratory.intrinsic+json": {
              "type": "string"
            }
          },
          "metadata": {},
          "execution_count": 70
        }
      ]
    },
    {
      "cell_type": "code",
      "source": [
        "s[2]"
      ],
      "metadata": {
        "colab": {
          "base_uri": "https://localhost:8080/",
          "height": 35
        },
        "id": "AFl4DOpnRoz-",
        "outputId": "7b159e04-ecef-4c13-e95d-bf89f5045adb"
      },
      "execution_count": null,
      "outputs": [
        {
          "output_type": "execute_result",
          "data": {
            "text/plain": [
              "'t'"
            ],
            "application/vnd.google.colaboratory.intrinsic+json": {
              "type": "string"
            }
          },
          "metadata": {},
          "execution_count": 71
        }
      ]
    },
    {
      "cell_type": "code",
      "source": [
        "s[3]"
      ],
      "metadata": {
        "colab": {
          "base_uri": "https://localhost:8080/",
          "height": 35
        },
        "id": "HEDNQkUaRqSu",
        "outputId": "2c3abac4-5e10-4039-f8ba-bb829fab0042"
      },
      "execution_count": null,
      "outputs": [
        {
          "output_type": "execute_result",
          "data": {
            "text/plain": [
              "'a'"
            ],
            "application/vnd.google.colaboratory.intrinsic+json": {
              "type": "string"
            }
          },
          "metadata": {},
          "execution_count": 72
        }
      ]
    },
    {
      "cell_type": "code",
      "source": [
        "# Retorna todos os elementos da string, começando pela posição\n",
        "# (lembre-se que Python começa a indexação pela posição 0),\n",
        "# até o fim da string\n",
        "# notação de fateamento ou slicing\n",
        "s[0:]"
      ],
      "metadata": {
        "id": "5rPdxobcSTL0",
        "colab": {
          "base_uri": "https://localhost:8080/",
          "height": 35
        },
        "outputId": "91765eca-f6b2-43d5-d02c-16520a9f9469"
      },
      "execution_count": null,
      "outputs": [
        {
          "output_type": "execute_result",
          "data": {
            "text/plain": [
              "'Data Science Academy'"
            ],
            "application/vnd.google.colaboratory.intrinsic+json": {
              "type": "string"
            }
          },
          "metadata": {},
          "execution_count": 17
        }
      ]
    },
    {
      "cell_type": "code",
      "source": [
        "# Retorna tudo até a posição 3\n",
        "# Não entra o índice 3\n",
        "s[:3]"
      ],
      "metadata": {
        "colab": {
          "base_uri": "https://localhost:8080/",
          "height": 35
        },
        "id": "Hb9IbnbiA9PV",
        "outputId": "2060787a-7a05-47cb-da33-b13f28596d4c"
      },
      "execution_count": null,
      "outputs": [
        {
          "output_type": "execute_result",
          "data": {
            "text/plain": [
              "'Dat'"
            ],
            "application/vnd.google.colaboratory.intrinsic+json": {
              "type": "string"
            }
          },
          "metadata": {},
          "execution_count": 5
        }
      ]
    },
    {
      "cell_type": "code",
      "source": [
        "# Nós também podemos usar a indexação negativa e ler de trás para frente\n",
        "s[-1]"
      ],
      "metadata": {
        "colab": {
          "base_uri": "https://localhost:8080/",
          "height": 35
        },
        "id": "V0ajS9gpBNrj",
        "outputId": "20007078-9c74-410a-abba-8791e27b6f08"
      },
      "execution_count": null,
      "outputs": [
        {
          "output_type": "execute_result",
          "data": {
            "text/plain": [
              "'y'"
            ],
            "application/vnd.google.colaboratory.intrinsic+json": {
              "type": "string"
            }
          },
          "metadata": {},
          "execution_count": 6
        }
      ]
    },
    {
      "cell_type": "code",
      "source": [
        "# Retornar tudo, exceto a última letra\n",
        "s[:-1]"
      ],
      "metadata": {
        "colab": {
          "base_uri": "https://localhost:8080/",
          "height": 35
        },
        "id": "YyZjns4XBzMJ",
        "outputId": "620e7fb1-eeb5-4901-88c4-bc9055ad50a9"
      },
      "execution_count": null,
      "outputs": [
        {
          "output_type": "execute_result",
          "data": {
            "text/plain": [
              "'Data Science Academ'"
            ],
            "application/vnd.google.colaboratory.intrinsic+json": {
              "type": "string"
            }
          },
          "metadata": {},
          "execution_count": 7
        }
      ]
    },
    {
      "cell_type": "markdown",
      "source": [
        "- Nós também podemos usar a notação de índice e falar a string em pedaços específicos (o padrão é 1).\n",
        "\n",
        "- Por exemplo, podemos usar dois pontos duas vezes em uma linha e, em seguida, um número que especifíca a frequência para retornar elementos."
      ],
      "metadata": {
        "id": "nebyNE-pCD2K"
      }
    },
    {
      "cell_type": "code",
      "source": [
        "s[::1]"
      ],
      "metadata": {
        "colab": {
          "base_uri": "https://localhost:8080/",
          "height": 35
        },
        "id": "rjK5dUawCclo",
        "outputId": "f51b8215-089d-4977-91aa-7685482e7244"
      },
      "execution_count": null,
      "outputs": [
        {
          "output_type": "execute_result",
          "data": {
            "text/plain": [
              "'Data Science Academy'"
            ],
            "application/vnd.google.colaboratory.intrinsic+json": {
              "type": "string"
            }
          },
          "metadata": {},
          "execution_count": 8
        }
      ]
    },
    {
      "cell_type": "code",
      "source": [
        "s[::2]"
      ],
      "metadata": {
        "colab": {
          "base_uri": "https://localhost:8080/",
          "height": 35
        },
        "id": "KG3RfYdrCgej",
        "outputId": "6f6264f6-331c-4f6b-866b-d8e7bba852fa"
      },
      "execution_count": null,
      "outputs": [
        {
          "output_type": "execute_result",
          "data": {
            "text/plain": [
              "'Dt cec cdm'"
            ],
            "application/vnd.google.colaboratory.intrinsic+json": {
              "type": "string"
            }
          },
          "metadata": {},
          "execution_count": 9
        }
      ]
    },
    {
      "cell_type": "code",
      "source": [
        "s[::-1]"
      ],
      "metadata": {
        "colab": {
          "base_uri": "https://localhost:8080/",
          "height": 35
        },
        "id": "Dw6AJoNFCkhh",
        "outputId": "026b3f80-6f8a-4018-9438-61d217b06e54"
      },
      "execution_count": null,
      "outputs": [
        {
          "output_type": "execute_result",
          "data": {
            "text/plain": [
              "'ymedacA ecneicS ataD'"
            ],
            "application/vnd.google.colaboratory.intrinsic+json": {
              "type": "string"
            }
          },
          "metadata": {},
          "execution_count": 10
        }
      ]
    },
    {
      "cell_type": "markdown",
      "source": [
        "- Propriedades de Strings"
      ],
      "metadata": {
        "id": "DCbEdz2sCuAE"
      }
    },
    {
      "cell_type": "code",
      "source": [
        "s"
      ],
      "metadata": {
        "colab": {
          "base_uri": "https://localhost:8080/",
          "height": 35
        },
        "id": "Y9K91baeCweF",
        "outputId": "45ffbdc8-fa40-49e4-9584-800087572eb4"
      },
      "execution_count": null,
      "outputs": [
        {
          "output_type": "execute_result",
          "data": {
            "text/plain": [
              "'Data Science Academy'"
            ],
            "application/vnd.google.colaboratory.intrinsic+json": {
              "type": "string"
            }
          },
          "metadata": {},
          "execution_count": 11
        }
      ]
    },
    {
      "cell_type": "code",
      "source": [
        "# Alterando um caracter (não é possível alterar um elemento da string)\n",
        "# string é um dado imutável, ou seja é necessário altera-lo todo"
      ],
      "metadata": {
        "id": "YM62EJA5Cy0d"
      },
      "execution_count": null,
      "outputs": []
    },
    {
      "cell_type": "code",
      "source": [
        "# Concatenar string\n",
        "\n",
        "s + \"é a melhor maneira de estar preparado para o mercado de trabalho em Ciências de dados\""
      ],
      "metadata": {
        "colab": {
          "base_uri": "https://localhost:8080/",
          "height": 53
        },
        "id": "MsZEPIeCDJ34",
        "outputId": "cf7cb83b-2f31-498f-a3a7-d819e241d0ed"
      },
      "execution_count": null,
      "outputs": [
        {
          "output_type": "execute_result",
          "data": {
            "text/plain": [
              "'Data Science Academyé a melhor maneira de estar preparado para o mercado de trabalho em Ciências de dados'"
            ],
            "application/vnd.google.colaboratory.intrinsic+json": {
              "type": "string"
            }
          },
          "metadata": {},
          "execution_count": 12
        }
      ]
    },
    {
      "cell_type": "code",
      "source": [
        "s = s + \" é a melhor maneira de estar preparado para o mercado de trabalho em Ciências de dados\""
      ],
      "metadata": {
        "id": "nlrNihENDWWo"
      },
      "execution_count": null,
      "outputs": []
    },
    {
      "cell_type": "code",
      "source": [
        "s"
      ],
      "metadata": {
        "colab": {
          "base_uri": "https://localhost:8080/",
          "height": 122
        },
        "id": "0w9-XWoTDdFP",
        "outputId": "3941cb94-a237-4e00-bef6-70a0eb75a8db"
      },
      "execution_count": null,
      "outputs": [
        {
          "output_type": "execute_result",
          "data": {
            "text/plain": [
              "'Data Science Academyé a melhor maneira de estar preparado para o mercado de trabalho em Ciências de dados é a melhor maneira de estar preparado para o mercado de trabalho em Ciências de dados é a melhor maneira de estar preparado para o mercado de trabalho em Ciências de dados é a melhor maneira de estar preparado para o mercado de trabalho em Ciências de dados é a melhor maneira de estar preparado para o mercado de trabalho em Ciências de dados'"
            ],
            "application/vnd.google.colaboratory.intrinsic+json": {
              "type": "string"
            }
          },
          "metadata": {},
          "execution_count": 23
        }
      ]
    },
    {
      "cell_type": "code",
      "source": [
        "# Podemos usar o símbolo de multiplicação para criar repetição\n",
        "letra = 'w'"
      ],
      "metadata": {
        "id": "7IFLiE0tDwtw"
      },
      "execution_count": null,
      "outputs": []
    },
    {
      "cell_type": "code",
      "source": [
        "letra * 3"
      ],
      "metadata": {
        "colab": {
          "base_uri": "https://localhost:8080/",
          "height": 35
        },
        "id": "rwUceYEHD4Th",
        "outputId": "f4968487-4920-4454-8f95-ef3619c27e18"
      },
      "execution_count": null,
      "outputs": [
        {
          "output_type": "execute_result",
          "data": {
            "text/plain": [
              "'www'"
            ],
            "application/vnd.google.colaboratory.intrinsic+json": {
              "type": "string"
            }
          },
          "metadata": {},
          "execution_count": 25
        }
      ]
    },
    {
      "cell_type": "markdown",
      "source": [
        "- Funções Built-in de Strings"
      ],
      "metadata": {
        "id": "Ijvb4ij3ED4B"
      }
    },
    {
      "cell_type": "code",
      "source": [
        "# São pequenos blocos de código que estão dentro do interpretador Python"
      ],
      "metadata": {
        "id": "PrhDpXeiEDVN"
      },
      "execution_count": null,
      "outputs": []
    },
    {
      "cell_type": "code",
      "source": [
        "s = \"Data Science Academy é a melhor maneira de estar preparado para o mercado de trabalho em Ciências de dados\""
      ],
      "metadata": {
        "id": "ccvJXZhGEWXt"
      },
      "execution_count": null,
      "outputs": []
    },
    {
      "cell_type": "code",
      "source": [
        "s"
      ],
      "metadata": {
        "colab": {
          "base_uri": "https://localhost:8080/",
          "height": 53
        },
        "id": "jqKXZUe7Emo1",
        "outputId": "57a5aa8d-efc1-43f9-e455-ce34a396ec7d"
      },
      "execution_count": null,
      "outputs": [
        {
          "output_type": "execute_result",
          "data": {
            "text/plain": [
              "'Data Science Academy é a melhor maneira de estar preparado para o mercado de trabalho em Ciências de dados'"
            ],
            "application/vnd.google.colaboratory.intrinsic+json": {
              "type": "string"
            }
          },
          "metadata": {},
          "execution_count": 29
        }
      ]
    },
    {
      "cell_type": "code",
      "source": [
        "# s além de ser uma variável do tipo string, s é um objeto em python da classe string\n",
        "# quando se tem um objeto, você tem métodos e atributos para trabalhar com aquele objeto\n",
        "# com os métodos, utilizamos ()"
      ],
      "metadata": {
        "id": "ZBAxqoQkEzJE"
      },
      "execution_count": null,
      "outputs": []
    },
    {
      "cell_type": "code",
      "source": [
        "# Upper Case\n",
        "s.upper()"
      ],
      "metadata": {
        "colab": {
          "base_uri": "https://localhost:8080/",
          "height": 53
        },
        "id": "66sv5wkwE6tS",
        "outputId": "821f8829-daa0-4de1-db14-93d40bd8e037"
      },
      "execution_count": null,
      "outputs": [
        {
          "output_type": "execute_result",
          "data": {
            "text/plain": [
              "'DATA SCIENCE ACADEMY É A MELHOR MANEIRA DE ESTAR PREPARADO PARA O MERCADO DE TRABALHO EM CIÊNCIAS DE DADOS'"
            ],
            "application/vnd.google.colaboratory.intrinsic+json": {
              "type": "string"
            }
          },
          "metadata": {},
          "execution_count": 31
        }
      ]
    },
    {
      "cell_type": "code",
      "source": [
        "s.lower()"
      ],
      "metadata": {
        "colab": {
          "base_uri": "https://localhost:8080/",
          "height": 53
        },
        "id": "Iur63SyZFmVX",
        "outputId": "d95a0877-02be-41c2-8732-e4f880015d98"
      },
      "execution_count": null,
      "outputs": [
        {
          "output_type": "execute_result",
          "data": {
            "text/plain": [
              "'data science academy é a melhor maneira de estar preparado para o mercado de trabalho em ciências de dados'"
            ],
            "application/vnd.google.colaboratory.intrinsic+json": {
              "type": "string"
            }
          },
          "metadata": {},
          "execution_count": 32
        }
      ]
    },
    {
      "cell_type": "code",
      "source": [
        "# Dividir uma string por espaços em branco (padrão)\n",
        "s.split()"
      ],
      "metadata": {
        "colab": {
          "base_uri": "https://localhost:8080/"
        },
        "id": "4ITF9Qj1FpYk",
        "outputId": "5d939aa5-60c2-4361-9af6-c765bdef745c"
      },
      "execution_count": null,
      "outputs": [
        {
          "output_type": "execute_result",
          "data": {
            "text/plain": [
              "['Data',\n",
              " 'Science',\n",
              " 'Academy',\n",
              " 'é',\n",
              " 'a',\n",
              " 'melhor',\n",
              " 'maneira',\n",
              " 'de',\n",
              " 'estar',\n",
              " 'preparado',\n",
              " 'para',\n",
              " 'o',\n",
              " 'mercado',\n",
              " 'de',\n",
              " 'trabalho',\n",
              " 'em',\n",
              " 'Ciências',\n",
              " 'de',\n",
              " 'dados']"
            ]
          },
          "metadata": {},
          "execution_count": 34
        }
      ]
    },
    {
      "cell_type": "code",
      "source": [
        "s.split('y')"
      ],
      "metadata": {
        "colab": {
          "base_uri": "https://localhost:8080/"
        },
        "id": "oKfJJedjFwzS",
        "outputId": "12caba70-6080-4275-8cc7-9cd8a03d096f"
      },
      "execution_count": null,
      "outputs": [
        {
          "output_type": "execute_result",
          "data": {
            "text/plain": [
              "['Data Science Academ',\n",
              " ' é a melhor maneira de estar preparado para o mercado de trabalho em Ciências de dados']"
            ]
          },
          "metadata": {},
          "execution_count": 37
        }
      ]
    },
    {
      "cell_type": "markdown",
      "source": [
        "- Funções string"
      ],
      "metadata": {
        "id": "WMAP8H1VGV-H"
      }
    },
    {
      "cell_type": "code",
      "source": [
        "s = 'seja bem vindo ao universo de Linguagem Python'"
      ],
      "metadata": {
        "id": "-N3eKvmUGU_p"
      },
      "execution_count": null,
      "outputs": []
    },
    {
      "cell_type": "code",
      "source": [
        "# Retorna uma cópia da string com a primeira palavra iniciando em maiúscula, e as demais letras minúsculas\n",
        "s.capitalize()"
      ],
      "metadata": {
        "colab": {
          "base_uri": "https://localhost:8080/",
          "height": 35
        },
        "id": "9M89EDXLGhyI",
        "outputId": "3b7bccdb-46ac-46d1-97bc-e694a5283215"
      },
      "execution_count": null,
      "outputs": [
        {
          "output_type": "execute_result",
          "data": {
            "text/plain": [
              "'Seja bem vindo ao universo de linguagem python'"
            ],
            "application/vnd.google.colaboratory.intrinsic+json": {
              "type": "string"
            }
          },
          "metadata": {},
          "execution_count": 39
        }
      ]
    },
    {
      "cell_type": "code",
      "source": [
        "s.count('a')"
      ],
      "metadata": {
        "colab": {
          "base_uri": "https://localhost:8080/"
        },
        "id": "M57Xrpu3GpAT",
        "outputId": "f533bedb-24ae-4f7e-ac80-d743fe90c336"
      },
      "execution_count": null,
      "outputs": [
        {
          "output_type": "execute_result",
          "data": {
            "text/plain": [
              "3"
            ]
          },
          "metadata": {},
          "execution_count": 40
        }
      ]
    },
    {
      "cell_type": "code",
      "source": [
        "# Retorna True se a string for não-vazia e todos os seus caracteres forem alfanuméricos (ou uma letra ou um número), e caso contrário, retorna False\n",
        "\n",
        "s.isalnum()"
      ],
      "metadata": {
        "colab": {
          "base_uri": "https://localhost:8080/"
        },
        "id": "yUq9wdQiG4Ue",
        "outputId": "65a979ac-a54b-4d66-944c-eaa3692a2247"
      },
      "execution_count": null,
      "outputs": [
        {
          "output_type": "execute_result",
          "data": {
            "text/plain": [
              "False"
            ]
          },
          "metadata": {},
          "execution_count": 41
        }
      ]
    },
    {
      "cell_type": "code",
      "source": [
        "# Verificar se uma palavra, frase ou texto contém apenas letras minúsculas\n",
        "\n",
        "s.islower()"
      ],
      "metadata": {
        "colab": {
          "base_uri": "https://localhost:8080/"
        },
        "id": "CL5UZWJLG84X",
        "outputId": "850c9679-d305-4e6c-ae1f-dd4a1701f814"
      },
      "execution_count": null,
      "outputs": [
        {
          "output_type": "execute_result",
          "data": {
            "text/plain": [
              "False"
            ]
          },
          "metadata": {},
          "execution_count": 42
        }
      ]
    },
    {
      "cell_type": "code",
      "source": [
        "s.endswith('n')"
      ],
      "metadata": {
        "colab": {
          "base_uri": "https://localhost:8080/"
        },
        "id": "-HFvotABHE1V",
        "outputId": "16212136-a49f-4d01-fff4-07cda124d71c"
      },
      "execution_count": null,
      "outputs": [
        {
          "output_type": "execute_result",
          "data": {
            "text/plain": [
              "True"
            ]
          },
          "metadata": {},
          "execution_count": 43
        }
      ]
    },
    {
      "cell_type": "code",
      "source": [
        "s = '1000'"
      ],
      "metadata": {
        "id": "30nZ96XQIa_h"
      },
      "execution_count": null,
      "outputs": []
    },
    {
      "cell_type": "markdown",
      "source": [
        "- Comparando string"
      ],
      "metadata": {
        "id": "Us-99NgFKJhI"
      }
    },
    {
      "cell_type": "code",
      "source": [
        "print('Python' == 'R')"
      ],
      "metadata": {
        "id": "KQZvV9-7KOEg",
        "outputId": "77bc9077-71a4-437d-8b3a-28eb62aa0b12",
        "colab": {
          "base_uri": "https://localhost:8080/"
        }
      },
      "execution_count": null,
      "outputs": [
        {
          "output_type": "stream",
          "name": "stdout",
          "text": [
            "False\n"
          ]
        }
      ]
    },
    {
      "cell_type": "markdown",
      "source": [
        "- Estruturas de dados - Trabalhando com listas em Python"
      ],
      "metadata": {
        "id": "uJeSGGPFX2Tu"
      }
    },
    {
      "cell_type": "code",
      "source": [
        "# As variáveis armazenadas aqui são únicas, seja ela do tipo string, inteiro ou float.\n",
        "# As estruturas de dados (listas, dicionários, tuplas) são maneiras de armazenar variáveis de vários tipos."
      ],
      "metadata": {
        "id": "hxOMmZ3LX9oJ"
      },
      "execution_count": null,
      "outputs": []
    },
    {
      "cell_type": "code",
      "source": [
        "# Criando uma lista como string\n",
        "lista_1 = [\"arroz, frango, tomate, leite\"]"
      ],
      "metadata": {
        "id": "Zof22cPzYhHP"
      },
      "execution_count": null,
      "outputs": []
    },
    {
      "cell_type": "code",
      "source": [
        "type(lista_1)"
      ],
      "metadata": {
        "colab": {
          "base_uri": "https://localhost:8080/"
        },
        "id": "Y2SxTRMOYzgw",
        "outputId": "e1c80cab-c5f8-4d8b-fee3-6983a6b1c008"
      },
      "execution_count": null,
      "outputs": [
        {
          "output_type": "execute_result",
          "data": {
            "text/plain": [
              "list"
            ]
          },
          "metadata": {},
          "execution_count": 3
        }
      ]
    },
    {
      "cell_type": "code",
      "source": [
        "print(lista_1)"
      ],
      "metadata": {
        "colab": {
          "base_uri": "https://localhost:8080/"
        },
        "id": "axF0OWKqYuNr",
        "outputId": "eec10369-b9da-4081-9a4b-7a7f168ae8af"
      },
      "execution_count": null,
      "outputs": [
        {
          "output_type": "stream",
          "name": "stdout",
          "text": [
            "['arroz, frango, tomate, leite']\n"
          ]
        }
      ]
    },
    {
      "cell_type": "code",
      "source": [
        "# Criando uma lista de strings\n",
        "lista_2 = [\"arroz\", \"frango\", \"tomate\", \"leite\"]"
      ],
      "metadata": {
        "id": "J2imXiZDY4a1"
      },
      "execution_count": null,
      "outputs": []
    },
    {
      "cell_type": "code",
      "source": [
        "print(lista_2)"
      ],
      "metadata": {
        "colab": {
          "base_uri": "https://localhost:8080/"
        },
        "id": "h8dh6aqUZK3i",
        "outputId": "7dbab516-9809-4d10-aba3-9c21b602e0e8"
      },
      "execution_count": null,
      "outputs": [
        {
          "output_type": "stream",
          "name": "stdout",
          "text": [
            "['arroz', 'frango', 'tomate', 'leite']\n"
          ]
        }
      ]
    },
    {
      "cell_type": "code",
      "source": [
        "# Criando uma lista com diferentes tipos de variáveis\n",
        "lista_3 = [23, 100, \"Cientista de Dados\"]"
      ],
      "metadata": {
        "id": "U6Y9gD7ZZSG-"
      },
      "execution_count": null,
      "outputs": []
    },
    {
      "cell_type": "code",
      "source": [
        "print(lista_3)"
      ],
      "metadata": {
        "colab": {
          "base_uri": "https://localhost:8080/"
        },
        "id": "M8z3dpWqZhkQ",
        "outputId": "d80881b9-3e92-487e-9cc7-5a11be0e148b"
      },
      "execution_count": null,
      "outputs": [
        {
          "output_type": "stream",
          "name": "stdout",
          "text": [
            "[23, 100, 'Cientista de Dados']\n"
          ]
        }
      ]
    },
    {
      "cell_type": "code",
      "source": [
        "# Atribuindo cada valor da lista uma variável.\n",
        "# Aqui iremos acessar o elemento através da indexação.\n",
        "# Lembrar que a indexação em Python começa em 0.\n",
        "\n",
        "item1 = lista_3[1]\n",
        "item2 = lista_3[0]\n",
        "item3 = lista_3[2]"
      ],
      "metadata": {
        "id": "WsI_8eONZpY8"
      },
      "execution_count": null,
      "outputs": []
    },
    {
      "cell_type": "code",
      "source": [
        "print(item1, item2, item3)"
      ],
      "metadata": {
        "colab": {
          "base_uri": "https://localhost:8080/"
        },
        "id": "BwgdzyCPaJxs",
        "outputId": "b7392449-7d39-49a0-d50e-3441c642062d"
      },
      "execution_count": null,
      "outputs": [
        {
          "output_type": "stream",
          "name": "stdout",
          "text": [
            "100 23 Cientista de Dados\n"
          ]
        }
      ]
    },
    {
      "cell_type": "markdown",
      "source": [
        "- Atualizando um item da lista"
      ],
      "metadata": {
        "id": "q8VwdAP9aRWT"
      }
    },
    {
      "cell_type": "code",
      "source": [
        "lista_2"
      ],
      "metadata": {
        "id": "Fc4q_wfeaT5Q"
      },
      "execution_count": null,
      "outputs": []
    },
    {
      "cell_type": "code",
      "source": [
        "lista_2[2]"
      ],
      "metadata": {
        "id": "vWQos9H5ad3z"
      },
      "execution_count": null,
      "outputs": []
    },
    {
      "cell_type": "code",
      "source": [
        "lista_2[2] = \"chocolate\""
      ],
      "metadata": {
        "id": "1D46PI_tahIw"
      },
      "execution_count": null,
      "outputs": []
    },
    {
      "cell_type": "code",
      "source": [
        "lista_2"
      ],
      "metadata": {
        "id": "jNuMzQrTallG"
      },
      "execution_count": null,
      "outputs": []
    },
    {
      "cell_type": "markdown",
      "source": [
        "- Deletando um item da lista"
      ],
      "metadata": {
        "id": "1cHzMnWmaoRh"
      }
    },
    {
      "cell_type": "code",
      "source": [
        "# A palavra reservada para deletar um item da lista é o: del"
      ],
      "metadata": {
        "id": "hSXdM0wFaqne"
      },
      "execution_count": null,
      "outputs": []
    },
    {
      "cell_type": "code",
      "source": [
        "# Não é possível deletar um item que não existe na lista. Vai gerar erro index of range\n",
        "del lista_2[4]"
      ],
      "metadata": {
        "id": "jIWOvCV5ayOG"
      },
      "execution_count": null,
      "outputs": []
    },
    {
      "cell_type": "code",
      "source": [
        "# Deletando um item específico da lista\n",
        "del lista_2[3]"
      ],
      "metadata": {
        "id": "6iE97eRxbDT0"
      },
      "execution_count": null,
      "outputs": []
    },
    {
      "cell_type": "code",
      "source": [
        "lista_2"
      ],
      "metadata": {
        "colab": {
          "base_uri": "https://localhost:8080/"
        },
        "id": "0fbaSmnMbI_L",
        "outputId": "ad865ab6-1e4f-4179-a604-8c3752df5f5a"
      },
      "execution_count": null,
      "outputs": [
        {
          "output_type": "execute_result",
          "data": {
            "text/plain": [
              "['arroz', 'frango', 'chocolate']"
            ]
          },
          "metadata": {},
          "execution_count": 17
        }
      ]
    },
    {
      "cell_type": "markdown",
      "source": [
        "- Listas de listas (Listas alinhadas)"
      ],
      "metadata": {
        "id": "9l6s6Dr_bf-x"
      }
    },
    {
      "cell_type": "code",
      "source": [
        "listas = [[1,2,3], [10,15,14], [10.1,8.7,2.3]]"
      ],
      "metadata": {
        "id": "xxlC3KP9blSG"
      },
      "execution_count": null,
      "outputs": []
    },
    {
      "cell_type": "code",
      "source": [
        "listas"
      ],
      "metadata": {
        "colab": {
          "base_uri": "https://localhost:8080/"
        },
        "id": "fjc-r146cWYc",
        "outputId": "002c8b60-3b9b-4a0b-d31a-00721cb45c9a"
      },
      "execution_count": null,
      "outputs": [
        {
          "output_type": "execute_result",
          "data": {
            "text/plain": [
              "[[1, 2, 3], [10, 15, 14], [10.1, 8.7, 2.3]]"
            ]
          },
          "metadata": {},
          "execution_count": 26
        }
      ]
    },
    {
      "cell_type": "code",
      "source": [
        "# Atribuindo um item da lista a uma variável\n",
        "a = listas[0]"
      ],
      "metadata": {
        "id": "DTujInmwcY3S"
      },
      "execution_count": null,
      "outputs": []
    },
    {
      "cell_type": "code",
      "source": [
        "a"
      ],
      "metadata": {
        "colab": {
          "base_uri": "https://localhost:8080/"
        },
        "id": "k8dj_0Hlcjfv",
        "outputId": "e30d1cef-cc7e-44b1-ae6b-a39fc36c80cc"
      },
      "execution_count": null,
      "outputs": [
        {
          "output_type": "execute_result",
          "data": {
            "text/plain": [
              "[1, 2, 3]"
            ]
          },
          "metadata": {},
          "execution_count": 25
        }
      ]
    },
    {
      "cell_type": "code",
      "source": [
        "# É permitido procurar um elemento de uma lista, em outra lista.\n",
        "\n",
        "b = a[0]"
      ],
      "metadata": {
        "id": "fPptfMIQclSK"
      },
      "execution_count": null,
      "outputs": []
    },
    {
      "cell_type": "code",
      "source": [
        "b"
      ],
      "metadata": {
        "colab": {
          "base_uri": "https://localhost:8080/"
        },
        "id": "xmuGFM8CcrEO",
        "outputId": "33c4e1b4-4791-4212-bbb2-3a3bfe6be52b"
      },
      "execution_count": null,
      "outputs": [
        {
          "output_type": "execute_result",
          "data": {
            "text/plain": [
              "1"
            ]
          },
          "metadata": {},
          "execution_count": 28
        }
      ]
    },
    {
      "cell_type": "code",
      "source": [
        "list1 = listas[1]"
      ],
      "metadata": {
        "id": "canHzX4-c6Gl"
      },
      "execution_count": null,
      "outputs": []
    },
    {
      "cell_type": "code",
      "source": [
        "list1"
      ],
      "metadata": {
        "colab": {
          "base_uri": "https://localhost:8080/"
        },
        "id": "Lzio1YVDc_1s",
        "outputId": "be0efd03-25c7-4435-f9e5-5ba2afbab34b"
      },
      "execution_count": null,
      "outputs": [
        {
          "output_type": "execute_result",
          "data": {
            "text/plain": [
              "[10, 15, 14]"
            ]
          },
          "metadata": {},
          "execution_count": 30
        }
      ]
    },
    {
      "cell_type": "code",
      "source": [
        "valor_1_0 = list1[0]"
      ],
      "metadata": {
        "id": "inb_nuR3dB81"
      },
      "execution_count": null,
      "outputs": []
    },
    {
      "cell_type": "code",
      "source": [
        "valor_1_0"
      ],
      "metadata": {
        "colab": {
          "base_uri": "https://localhost:8080/"
        },
        "id": "NZPtGcVydGrX",
        "outputId": "8b1947f4-26b0-43ed-e46f-22382cafa651"
      },
      "execution_count": null,
      "outputs": [
        {
          "output_type": "execute_result",
          "data": {
            "text/plain": [
              "10"
            ]
          },
          "metadata": {},
          "execution_count": 32
        }
      ]
    },
    {
      "cell_type": "markdown",
      "source": [
        "- Operações com listas"
      ],
      "metadata": {
        "id": "ZUU5neDJdc4e"
      }
    },
    {
      "cell_type": "code",
      "source": [
        "listas = [[1,2,3], [10,15,14], [10.1,8.7,2.3]]"
      ],
      "metadata": {
        "id": "Fl351e_fdhbo"
      },
      "execution_count": null,
      "outputs": []
    },
    {
      "cell_type": "code",
      "source": [
        "# Procurando elemento na lista diretamente.\n",
        "\n",
        "a = listas[0][0]"
      ],
      "metadata": {
        "id": "5IuQC9ixdkOT"
      },
      "execution_count": null,
      "outputs": []
    },
    {
      "cell_type": "code",
      "source": [
        "a"
      ],
      "metadata": {
        "colab": {
          "base_uri": "https://localhost:8080/"
        },
        "id": "cuzf3ezGdtfc",
        "outputId": "3f13a070-8036-4b5c-9a9c-70f0c04daed3"
      },
      "execution_count": null,
      "outputs": [
        {
          "output_type": "execute_result",
          "data": {
            "text/plain": [
              "1"
            ]
          },
          "metadata": {},
          "execution_count": 35
        }
      ]
    },
    {
      "cell_type": "code",
      "source": [
        "c = listas[0][2] + 10"
      ],
      "metadata": {
        "id": "187tFvHNeCFG"
      },
      "execution_count": null,
      "outputs": []
    },
    {
      "cell_type": "code",
      "source": [
        "c"
      ],
      "metadata": {
        "colab": {
          "base_uri": "https://localhost:8080/"
        },
        "id": "bHglnq5ueI0q",
        "outputId": "2ff1698a-f890-482e-ff73-163a360b074e"
      },
      "execution_count": null,
      "outputs": [
        {
          "output_type": "execute_result",
          "data": {
            "text/plain": [
              "13"
            ]
          },
          "metadata": {},
          "execution_count": 37
        }
      ]
    },
    {
      "cell_type": "code",
      "source": [
        "d = 10"
      ],
      "metadata": {
        "id": "ukm9IlQ4eKlV"
      },
      "execution_count": null,
      "outputs": []
    },
    {
      "cell_type": "code",
      "source": [
        "e = d * listas[2][0]"
      ],
      "metadata": {
        "id": "xBughG-PeO6V"
      },
      "execution_count": null,
      "outputs": []
    },
    {
      "cell_type": "code",
      "source": [
        "e"
      ],
      "metadata": {
        "colab": {
          "base_uri": "https://localhost:8080/"
        },
        "id": "QbgRUpuJeWVY",
        "outputId": "ca6c1ae7-378d-4194-b074-9bac186e79b7"
      },
      "execution_count": null,
      "outputs": [
        {
          "output_type": "execute_result",
          "data": {
            "text/plain": [
              "101.0"
            ]
          },
          "metadata": {},
          "execution_count": 40
        }
      ]
    },
    {
      "cell_type": "markdown",
      "source": [
        "- Concatenando listas"
      ],
      "metadata": {
        "id": "4oYh9iOaeaiI"
      }
    },
    {
      "cell_type": "code",
      "source": [
        "listas_s1 = [34, 32, 56]"
      ],
      "metadata": {
        "id": "4spEM-PNecfz"
      },
      "execution_count": null,
      "outputs": []
    },
    {
      "cell_type": "code",
      "source": [
        "listas_s2 = [21, 90, 51]"
      ],
      "metadata": {
        "id": "ZTbSScqVeq87"
      },
      "execution_count": null,
      "outputs": []
    },
    {
      "cell_type": "code",
      "source": [
        "# Concatenando listas.\n",
        "# Lembre-se, concatenar não é somar.\n",
        "# Operadores sobrecarregador -> Quer dizer que um operador pode ter mais de uma função. Exemplo o sinal de +\n",
        "\n",
        "listas_total = listas_s1 + listas_s2"
      ],
      "metadata": {
        "id": "W543V2Gxeuvb"
      },
      "execution_count": null,
      "outputs": []
    },
    {
      "cell_type": "code",
      "source": [
        "listas_total"
      ],
      "metadata": {
        "colab": {
          "base_uri": "https://localhost:8080/"
        },
        "id": "hI-M-Awte9di",
        "outputId": "2936c010-1a18-4bca-eaf3-9a59be1d38ae"
      },
      "execution_count": null,
      "outputs": [
        {
          "output_type": "execute_result",
          "data": {
            "text/plain": [
              "[34, 32, 56, 21, 90, 51]"
            ]
          },
          "metadata": {},
          "execution_count": 45
        }
      ]
    },
    {
      "cell_type": "markdown",
      "source": [
        "- Operador in"
      ],
      "metadata": {
        "id": "aBuqEc4VfBQT"
      }
    },
    {
      "cell_type": "code",
      "source": [
        "lista_teste_op = [100, 2, -5, 3.4]"
      ],
      "metadata": {
        "id": "qQwXrxKlfDMe"
      },
      "execution_count": null,
      "outputs": []
    },
    {
      "cell_type": "code",
      "source": [
        "# O operador in verifica se o elemento questionado está na lista.\n",
        "# Verificando se o valor 10 pertence a lista.\n",
        "# A operação abaixo pode ser entendida da seguinte maneira: \"O elemento 10 está dentro(in) da lista_teste_op\".\n",
        "\n",
        "print(10 in lista_teste_op)"
      ],
      "metadata": {
        "colab": {
          "base_uri": "https://localhost:8080/"
        },
        "id": "WVgGVylyfjQZ",
        "outputId": "c0fbbbff-347a-4bf4-89d8-7d0cbc5cc0ef"
      },
      "execution_count": null,
      "outputs": [
        {
          "output_type": "stream",
          "name": "stdout",
          "text": [
            "False\n"
          ]
        }
      ]
    },
    {
      "cell_type": "code",
      "source": [
        "print(100 in lista_teste_op)"
      ],
      "metadata": {
        "colab": {
          "base_uri": "https://localhost:8080/"
        },
        "id": "begkADPyf8wt",
        "outputId": "3f62dfe4-4496-470f-afbe-5e0629579478"
      },
      "execution_count": null,
      "outputs": [
        {
          "output_type": "stream",
          "name": "stdout",
          "text": [
            "True\n"
          ]
        }
      ]
    },
    {
      "cell_type": "markdown",
      "source": [
        "- Funções Built-in"
      ],
      "metadata": {
        "id": "nJ_a_dvYQDW2"
      }
    },
    {
      "cell_type": "code",
      "source": [
        "lista_numeros = [10, 20, 50, -3.4]"
      ],
      "metadata": {
        "id": "oUH8o9_TTi8N"
      },
      "execution_count": null,
      "outputs": []
    },
    {
      "cell_type": "code",
      "source": [
        "# Função len() retorna o comprimento da lista.\n",
        "# Observe que não é a indexação, e sim a quantidade de elementos.\n",
        "\n",
        "len(lista_numeros)"
      ],
      "metadata": {
        "colab": {
          "base_uri": "https://localhost:8080/"
        },
        "id": "TqTWugIITvtV",
        "outputId": "3735daef-fd9c-4a18-991a-d904a7057989"
      },
      "execution_count": null,
      "outputs": [
        {
          "output_type": "execute_result",
          "data": {
            "text/plain": [
              "4"
            ]
          },
          "metadata": {},
          "execution_count": 2
        }
      ]
    },
    {
      "cell_type": "code",
      "source": [
        "# Função max() retorna o valor maior da lista.\n",
        "\n",
        "max(lista_numeros)"
      ],
      "metadata": {
        "colab": {
          "base_uri": "https://localhost:8080/"
        },
        "id": "nHYKtq4FT709",
        "outputId": "e6bf4e46-dcb6-46b7-9b9b-0dbfc9658f30"
      },
      "execution_count": null,
      "outputs": [
        {
          "output_type": "execute_result",
          "data": {
            "text/plain": [
              "50"
            ]
          },
          "metadata": {},
          "execution_count": 3
        }
      ]
    },
    {
      "cell_type": "code",
      "source": [
        "# Função min() retorna o menor valor da lista.\n",
        "\n",
        "min(lista_numeros)"
      ],
      "metadata": {
        "colab": {
          "base_uri": "https://localhost:8080/"
        },
        "id": "ZUVRuCsNUJOO",
        "outputId": "2c0c81ab-9cb6-47c1-c3f6-c1ba4155100e"
      },
      "execution_count": null,
      "outputs": [
        {
          "output_type": "execute_result",
          "data": {
            "text/plain": [
              "-3.4"
            ]
          },
          "metadata": {},
          "execution_count": 4
        }
      ]
    },
    {
      "cell_type": "code",
      "source": [
        "lista_formacoes_dsa = ['Analista de dados', 'Cientista de dados', 'Engenheiro de dados']"
      ],
      "metadata": {
        "id": "RcHHju_UUQFM"
      },
      "execution_count": null,
      "outputs": []
    },
    {
      "cell_type": "code",
      "source": [
        "# Função .append adiciona um elemento na lista.\n",
        "\n",
        "lista_formacoes_dsa.append('Engenheiro de IA')"
      ],
      "metadata": {
        "id": "vgA7_RU0Ugfe"
      },
      "execution_count": null,
      "outputs": []
    },
    {
      "cell_type": "code",
      "source": [
        "lista_formacoes_dsa"
      ],
      "metadata": {
        "colab": {
          "base_uri": "https://localhost:8080/"
        },
        "id": "X1YQpn_TVEFo",
        "outputId": "c3609069-864a-4bbc-b6dd-75a56e2f509a"
      },
      "execution_count": null,
      "outputs": [
        {
          "output_type": "execute_result",
          "data": {
            "text/plain": [
              "['Analista de dados',\n",
              " 'Cientista de dados',\n",
              " 'Engenheiro de dados',\n",
              " 'Engenheiro de IA']"
            ]
          },
          "metadata": {},
          "execution_count": 13
        }
      ]
    },
    {
      "cell_type": "code",
      "source": [
        "# Função .count conta quantas vezes o elemento aparece na lista.\n",
        "\n",
        "lista_formacoes_dsa.count('Engenheiro de IA')"
      ],
      "metadata": {
        "colab": {
          "base_uri": "https://localhost:8080/"
        },
        "id": "OelkDDaeVQN6",
        "outputId": "0e8762b2-7307-4d57-c0f4-af9e821c0da8"
      },
      "execution_count": null,
      "outputs": [
        {
          "output_type": "execute_result",
          "data": {
            "text/plain": [
              "1"
            ]
          },
          "metadata": {},
          "execution_count": 14
        }
      ]
    },
    {
      "cell_type": "code",
      "source": [
        "# Criando uma lista vazia.\n",
        "# É normal na ciência de dados, o desenvolvedor criar uma lista vazia e ir adicionando elementos conforme vai codando.\n",
        "\n",
        "a = []"
      ],
      "metadata": {
        "id": "CEwagtpzVrfT"
      },
      "execution_count": null,
      "outputs": []
    },
    {
      "cell_type": "code",
      "source": [
        "print(a)"
      ],
      "metadata": {
        "id": "lsS5v3yMVwjv"
      },
      "execution_count": null,
      "outputs": []
    },
    {
      "cell_type": "code",
      "source": [
        "type(a)"
      ],
      "metadata": {
        "id": "2HCfzUOGV2ku"
      },
      "execution_count": null,
      "outputs": []
    },
    {
      "cell_type": "code",
      "source": [
        "a.append(10)"
      ],
      "metadata": {
        "id": "vbtI9qW-V5bG"
      },
      "execution_count": null,
      "outputs": []
    },
    {
      "cell_type": "code",
      "source": [
        "a.append(50)"
      ],
      "metadata": {
        "id": "8NBmMVjIV8tG"
      },
      "execution_count": null,
      "outputs": []
    },
    {
      "cell_type": "code",
      "source": [
        "a"
      ],
      "metadata": {
        "colab": {
          "base_uri": "https://localhost:8080/"
        },
        "id": "d3nJfJ3yV-uQ",
        "outputId": "4c470cbf-8b7a-427c-9a8b-38ba9731fc80"
      },
      "execution_count": null,
      "outputs": [
        {
          "output_type": "execute_result",
          "data": {
            "text/plain": [
              "[10, 50]"
            ]
          },
          "metadata": {},
          "execution_count": 20
        }
      ]
    },
    {
      "cell_type": "code",
      "source": [
        "old_list = [1,2,5,10]"
      ],
      "metadata": {
        "id": "xqP1I50ZWJE6"
      },
      "execution_count": null,
      "outputs": []
    },
    {
      "cell_type": "code",
      "source": [
        "new_list = []"
      ],
      "metadata": {
        "id": "w5AXcNnhWRuh"
      },
      "execution_count": null,
      "outputs": []
    },
    {
      "cell_type": "code",
      "source": [
        "# Copiando os itens de uma lista para outra.\n",
        "# O comando abaixo pode ser lido da seguinte maneira: \"Para cada item dentro da old_list, acrescente o item na new_list\".\n",
        "\n",
        "for item in old_list:\n",
        "  new_list.append(item)"
      ],
      "metadata": {
        "id": "XtJYzTtIWVGy"
      },
      "execution_count": null,
      "outputs": []
    },
    {
      "cell_type": "code",
      "source": [
        "new_list"
      ],
      "metadata": {
        "colab": {
          "base_uri": "https://localhost:8080/"
        },
        "id": "-heQSkXjW5uk",
        "outputId": "4bf63bba-22d0-4a6a-a7be-9dbe3c8e164b"
      },
      "execution_count": null,
      "outputs": [
        {
          "output_type": "execute_result",
          "data": {
            "text/plain": [
              "[1, 2, 5, 10]"
            ]
          },
          "metadata": {},
          "execution_count": 25
        }
      ]
    },
    {
      "cell_type": "code",
      "source": [
        "cidade = ['Recife', 'Manaus', 'Salvador']"
      ],
      "metadata": {
        "id": "EMWmbtSjW8LL"
      },
      "execution_count": null,
      "outputs": []
    },
    {
      "cell_type": "code",
      "source": [
        "# A função extend() adiciona/extende a minha lista declarada.\n",
        "\n",
        "cidade.extend(['Fortaleza', 'Palmas'])"
      ],
      "metadata": {
        "id": "VE1mLD3DXLy_"
      },
      "execution_count": null,
      "outputs": []
    },
    {
      "cell_type": "code",
      "source": [
        "cidade"
      ],
      "metadata": {
        "colab": {
          "base_uri": "https://localhost:8080/"
        },
        "id": "ujVCUzHRXTBr",
        "outputId": "31fb78f2-0b55-4cfb-de7e-c4b11136757d"
      },
      "execution_count": null,
      "outputs": [
        {
          "output_type": "execute_result",
          "data": {
            "text/plain": [
              "['Recife', 'Manaus', 'Salvador', 'Fortaleza', 'Palmas']"
            ]
          },
          "metadata": {},
          "execution_count": 28
        }
      ]
    },
    {
      "cell_type": "code",
      "source": [
        "# Diferentemente do count(), a função index() me mostra a indexação do elemento.\n",
        "# Lembrar que a indexação em Python começa pelo número 0.\n",
        "\n",
        "cidade.index('Salvador')"
      ],
      "metadata": {
        "colab": {
          "base_uri": "https://localhost:8080/"
        },
        "id": "9k85Vi_JXXHM",
        "outputId": "cdeb7b3e-3ca0-45d7-9064-e74a66a95301"
      },
      "execution_count": null,
      "outputs": [
        {
          "output_type": "execute_result",
          "data": {
            "text/plain": [
              "2"
            ]
          },
          "metadata": {},
          "execution_count": 29
        }
      ]
    },
    {
      "cell_type": "code",
      "source": [
        "# A função insert() adiciona um elemento da lista. Contudo, o primeiro número serve para fixar o índice que o elemento será adicionado, enquanto o segundo número corresponde ao elemento em si.\n",
        "\n",
        "cidade.insert(2, 110)"
      ],
      "metadata": {
        "id": "GLlEQAxwXz67"
      },
      "execution_count": null,
      "outputs": []
    },
    {
      "cell_type": "code",
      "source": [
        "cidade"
      ],
      "metadata": {
        "colab": {
          "base_uri": "https://localhost:8080/"
        },
        "id": "a48cqn6RX_dP",
        "outputId": "fff2b134-71d4-4186-b987-bcb29d62be50"
      },
      "execution_count": null,
      "outputs": [
        {
          "output_type": "execute_result",
          "data": {
            "text/plain": [
              "['Recife', 'Manaus', 110, 'Salvador', 'Fortaleza', 'Palmas']"
            ]
          },
          "metadata": {},
          "execution_count": 31
        }
      ]
    },
    {
      "cell_type": "code",
      "source": [
        "# Remove um item da lista\n",
        "\n",
        "cidade.remove(110)"
      ],
      "metadata": {
        "id": "3nXb5ghWYXnf"
      },
      "execution_count": null,
      "outputs": []
    },
    {
      "cell_type": "code",
      "source": [
        "cidade"
      ],
      "metadata": {
        "colab": {
          "base_uri": "https://localhost:8080/"
        },
        "id": "Q4g2BZPyYdh7",
        "outputId": "099ea41b-cd03-4303-87b7-42424e9884b2"
      },
      "execution_count": null,
      "outputs": [
        {
          "output_type": "execute_result",
          "data": {
            "text/plain": [
              "['Recife', 'Manaus', 'Salvador', 'Fortaleza', 'Palmas']"
            ]
          },
          "metadata": {},
          "execution_count": 33
        }
      ]
    },
    {
      "cell_type": "code",
      "source": [
        "# Reverte a lista\n",
        "\n",
        "cidade.reverse()"
      ],
      "metadata": {
        "id": "cU_ISxbAYfNQ"
      },
      "execution_count": null,
      "outputs": []
    },
    {
      "cell_type": "code",
      "source": [
        "cidade"
      ],
      "metadata": {
        "colab": {
          "base_uri": "https://localhost:8080/"
        },
        "id": "N9Vana4cYl9k",
        "outputId": "9d8991b4-8b8e-4ccf-b6d2-f7cc4d0faa8a"
      },
      "execution_count": null,
      "outputs": [
        {
          "output_type": "execute_result",
          "data": {
            "text/plain": [
              "['Palmas', 'Fortaleza', 'Salvador', 'Manaus', 'Recife']"
            ]
          },
          "metadata": {},
          "execution_count": 35
        }
      ]
    },
    {
      "cell_type": "code",
      "source": [
        "x = [3, 4, 2, 1]"
      ],
      "metadata": {
        "id": "kZ-DFHqyYnz2"
      },
      "execution_count": null,
      "outputs": []
    },
    {
      "cell_type": "code",
      "source": [
        "# Ordene a lista\n",
        "\n",
        "x.sort()"
      ],
      "metadata": {
        "id": "FsywLj6iYv0i"
      },
      "execution_count": null,
      "outputs": []
    },
    {
      "cell_type": "code",
      "source": [
        "x"
      ],
      "metadata": {
        "colab": {
          "base_uri": "https://localhost:8080/"
        },
        "id": "7LpBGS7IYzbN",
        "outputId": "ee46e2c8-3530-4627-8bf5-9f81f9c8b455"
      },
      "execution_count": null,
      "outputs": [
        {
          "output_type": "execute_result",
          "data": {
            "text/plain": [
              "[1, 2, 3, 4]"
            ]
          },
          "metadata": {},
          "execution_count": 38
        }
      ]
    },
    {
      "cell_type": "markdown",
      "source": [
        "- Dicionários"
      ],
      "metadata": {
        "id": "0Grk4Y6FZBQG"
      }
    },
    {
      "cell_type": "code",
      "source": [
        "# Todos os elementos de uma lista são independentes.\n",
        "# Com dicionários eu consigo vincular um elemento a outro, ou seja, eu consigo fazer pares."
      ],
      "metadata": {
        "id": "GjM8G0MlZI-x"
      },
      "execution_count": null,
      "outputs": []
    },
    {
      "cell_type": "code",
      "source": [
        "# Dicionário se usa {}\n",
        "\n",
        "estudante_dict = {'Pedro':24, 'Ana':22, 'Ronaldo':26, 'Janaina':25}"
      ],
      "metadata": {
        "id": "DwXt9gOFbTTt"
      },
      "execution_count": null,
      "outputs": []
    },
    {
      "cell_type": "code",
      "source": [
        "estudante_dict"
      ],
      "metadata": {
        "colab": {
          "base_uri": "https://localhost:8080/"
        },
        "id": "ibdD8Pvibjk8",
        "outputId": "216ae068-ed3b-41c5-8df9-750c5c9e4e43"
      },
      "execution_count": null,
      "outputs": [
        {
          "output_type": "execute_result",
          "data": {
            "text/plain": [
              "{'Pedro': 24, 'Ana': 22, 'Ronaldo': 26, 'Janaina': 25}"
            ]
          },
          "metadata": {},
          "execution_count": 40
        }
      ]
    },
    {
      "cell_type": "code",
      "source": [
        "type(estudante_dict)"
      ],
      "metadata": {
        "colab": {
          "base_uri": "https://localhost:8080/"
        },
        "id": "1KzywiIcbl5b",
        "outputId": "5695f9cd-47a4-4e9d-a8a6-0535610c49be"
      },
      "execution_count": null,
      "outputs": [
        {
          "output_type": "execute_result",
          "data": {
            "text/plain": [
              "dict"
            ]
          },
          "metadata": {},
          "execution_count": 41
        }
      ]
    },
    {
      "cell_type": "code",
      "source": [
        "estudante_dict['Pedro']"
      ],
      "metadata": {
        "colab": {
          "base_uri": "https://localhost:8080/"
        },
        "id": "30XrFv8dbo9_",
        "outputId": "afcc226e-5584-48e9-c6f0-6093b8eb0ab6"
      },
      "execution_count": null,
      "outputs": [
        {
          "output_type": "execute_result",
          "data": {
            "text/plain": [
              "24"
            ]
          },
          "metadata": {},
          "execution_count": 44
        }
      ]
    },
    {
      "cell_type": "code",
      "source": [
        "# É possível adicionar um elemento ao dicionário. Para isso, é necessário informar o elemento, bem como, seu par.\n",
        "\n",
        "estudante_dict['Marcelo'] = 23"
      ],
      "metadata": {
        "id": "--lE5jOOcGbk"
      },
      "execution_count": null,
      "outputs": []
    },
    {
      "cell_type": "code",
      "source": [
        "estudante_dict['Marcelo']"
      ],
      "metadata": {
        "colab": {
          "base_uri": "https://localhost:8080/"
        },
        "id": "yYHG1MtRcZcs",
        "outputId": "15508270-fb45-45dc-d56a-af2eecf6b03a"
      },
      "execution_count": null,
      "outputs": [
        {
          "output_type": "execute_result",
          "data": {
            "text/plain": [
              "23"
            ]
          },
          "metadata": {},
          "execution_count": 46
        }
      ]
    },
    {
      "cell_type": "code",
      "source": [
        "# A função .clear() limpa todos os dados do dicionário.\n",
        "\n",
        "estudante_dict.clear()"
      ],
      "metadata": {
        "id": "DWwfKXXEcgNQ"
      },
      "execution_count": null,
      "outputs": []
    },
    {
      "cell_type": "code",
      "source": [
        "estudante_dict"
      ],
      "metadata": {
        "colab": {
          "base_uri": "https://localhost:8080/"
        },
        "id": "cN9FjOywcs7O",
        "outputId": "0ad2bc36-bfff-4f9d-e6af-3fa62663f349"
      },
      "execution_count": null,
      "outputs": [
        {
          "output_type": "execute_result",
          "data": {
            "text/plain": [
              "{}"
            ]
          },
          "metadata": {},
          "execution_count": 48
        }
      ]
    },
    {
      "cell_type": "code",
      "source": [
        "# Aqui eu deletarei meu dicionário.\n",
        "\n",
        "del estudante_dict"
      ],
      "metadata": {
        "id": "usEwM7Vtcvjw"
      },
      "execution_count": null,
      "outputs": []
    },
    {
      "cell_type": "code",
      "source": [
        "estudante_dict"
      ],
      "metadata": {
        "id": "SN0GxkV5c6ju"
      },
      "execution_count": null,
      "outputs": []
    },
    {
      "cell_type": "code",
      "source": [
        "estudantes = {'Pedro': 24, 'Ana':22, 'Ronaldo':26, 'Janaia':25}"
      ],
      "metadata": {
        "id": "SdJtZcWwc9SH"
      },
      "execution_count": null,
      "outputs": []
    },
    {
      "cell_type": "code",
      "source": [
        "# Cada par é um elemento\n",
        "\n",
        "len(estudantes)"
      ],
      "metadata": {
        "colab": {
          "base_uri": "https://localhost:8080/"
        },
        "id": "pgVplzWcdPtA",
        "outputId": "51c72071-b0e2-4c13-f39e-e4bffc51e73b"
      },
      "execution_count": null,
      "outputs": [
        {
          "output_type": "execute_result",
          "data": {
            "text/plain": [
              "4"
            ]
          },
          "metadata": {},
          "execution_count": 53
        }
      ]
    },
    {
      "cell_type": "code",
      "source": [
        "estudantes.keys()"
      ],
      "metadata": {
        "colab": {
          "base_uri": "https://localhost:8080/"
        },
        "id": "vrNK1duzdT4U",
        "outputId": "fe1fc2b6-0134-45ca-8cc3-2c5d110b34c1"
      },
      "execution_count": null,
      "outputs": [
        {
          "output_type": "execute_result",
          "data": {
            "text/plain": [
              "dict_keys(['Pedro', 'Ana', 'Ronaldo', 'Janaia'])"
            ]
          },
          "metadata": {},
          "execution_count": 54
        }
      ]
    },
    {
      "cell_type": "code",
      "source": [
        "estudantes.values()"
      ],
      "metadata": {
        "colab": {
          "base_uri": "https://localhost:8080/"
        },
        "id": "Po59sqKldhpF",
        "outputId": "135aa0c8-cfd2-42d8-aaf9-610ba7692583"
      },
      "execution_count": null,
      "outputs": [
        {
          "output_type": "execute_result",
          "data": {
            "text/plain": [
              "dict_values([24, 22, 26, 25])"
            ]
          },
          "metadata": {},
          "execution_count": 55
        }
      ]
    },
    {
      "cell_type": "code",
      "source": [
        "estudantes.items()"
      ],
      "metadata": {
        "colab": {
          "base_uri": "https://localhost:8080/"
        },
        "id": "m6v_0fl7dkmf",
        "outputId": "8840e07a-3ed8-4506-8268-805735a89d36"
      },
      "execution_count": null,
      "outputs": [
        {
          "output_type": "execute_result",
          "data": {
            "text/plain": [
              "dict_items([('Pedro', 24), ('Ana', 22), ('Ronaldo', 26), ('Janaia', 25)])"
            ]
          },
          "metadata": {},
          "execution_count": 59
        }
      ]
    },
    {
      "cell_type": "code",
      "source": [
        "estudantes2 = {'Camila':27, 'Adriana':28, 'Roberta':26}"
      ],
      "metadata": {
        "id": "zIjnb8SVd1fD"
      },
      "execution_count": null,
      "outputs": []
    },
    {
      "cell_type": "code",
      "source": [
        "# O comando atualiza o dicionário 1, para adicionar os items do dicionário 2\n",
        "\n",
        "estudantes.update(estudantes2)"
      ],
      "metadata": {
        "id": "MUE5MTexeG-w"
      },
      "execution_count": null,
      "outputs": []
    },
    {
      "cell_type": "code",
      "source": [
        "estudantes"
      ],
      "metadata": {
        "colab": {
          "base_uri": "https://localhost:8080/"
        },
        "id": "di2SS213eL3k",
        "outputId": "63cf6f0f-f820-4ed6-b41c-c83cd3892150"
      },
      "execution_count": null,
      "outputs": [
        {
          "output_type": "execute_result",
          "data": {
            "text/plain": [
              "{'Pedro': 24,\n",
              " 'Ana': 22,\n",
              " 'Ronaldo': 26,\n",
              " 'Janaia': 25,\n",
              " 'Camila': 27,\n",
              " 'Adriana': 28,\n",
              " 'Roberta': 26}"
            ]
          },
          "metadata": {},
          "execution_count": 64
        }
      ]
    },
    {
      "cell_type": "code",
      "source": [
        "dict = {}"
      ],
      "metadata": {
        "id": "cUYEzZKueV-5"
      },
      "execution_count": null,
      "outputs": []
    },
    {
      "cell_type": "code",
      "source": [
        "dict['chave_um'] = 2"
      ],
      "metadata": {
        "id": "qZ2-Ah_AedqF"
      },
      "execution_count": null,
      "outputs": []
    },
    {
      "cell_type": "code",
      "source": [
        "print(dict)"
      ],
      "metadata": {
        "colab": {
          "base_uri": "https://localhost:8080/"
        },
        "id": "jC3Tu0n1eiix",
        "outputId": "3354e1c8-e6a3-4e26-9454-f4a1fcb71bad"
      },
      "execution_count": null,
      "outputs": [
        {
          "output_type": "stream",
          "name": "stdout",
          "text": [
            "{'chave_um': 2}\n"
          ]
        }
      ]
    },
    {
      "cell_type": "code",
      "source": [
        "dict[10] = 5"
      ],
      "metadata": {
        "id": "6JH_JnstesVF"
      },
      "execution_count": null,
      "outputs": []
    },
    {
      "cell_type": "code",
      "source": [
        "dict"
      ],
      "metadata": {
        "colab": {
          "base_uri": "https://localhost:8080/"
        },
        "id": "OTumekuNewsY",
        "outputId": "86e69a24-2a70-4fe3-d551-481b7693943e"
      },
      "execution_count": null,
      "outputs": [
        {
          "output_type": "execute_result",
          "data": {
            "text/plain": [
              "{'chave_um': 2, 10: 5}"
            ]
          },
          "metadata": {},
          "execution_count": 69
        }
      ]
    },
    {
      "cell_type": "code",
      "source": [
        "# Atenção, pois chave e valor dentro do dicionário podem ter valores iguais, mas representam coisas diferentes.\n",
        "\n",
        "dict['teste'] = 10"
      ],
      "metadata": {
        "id": "o2Py5qspey4t"
      },
      "execution_count": null,
      "outputs": []
    },
    {
      "cell_type": "code",
      "source": [
        "dict['key'] = 'teste'"
      ],
      "metadata": {
        "id": "esN70E0pfce4"
      },
      "execution_count": null,
      "outputs": []
    },
    {
      "cell_type": "code",
      "source": [
        "dict"
      ],
      "metadata": {
        "colab": {
          "base_uri": "https://localhost:8080/"
        },
        "id": "_tN5_T5ufjTm",
        "outputId": "fc207a54-6c96-43eb-83e5-9c9b2954116e"
      },
      "execution_count": null,
      "outputs": [
        {
          "output_type": "execute_result",
          "data": {
            "text/plain": [
              "{'chave_um': 2, 10: 5, 'teste': 10, 'key': 'teste'}"
            ]
          },
          "metadata": {},
          "execution_count": 73
        }
      ]
    },
    {
      "cell_type": "code",
      "source": [
        "dict2 = {}"
      ],
      "metadata": {
        "id": "tkswahVQfz9M"
      },
      "execution_count": null,
      "outputs": []
    },
    {
      "cell_type": "code",
      "source": [
        "dict2['key1'] = 'Data Science'"
      ],
      "metadata": {
        "id": "7DS74qNwf29P"
      },
      "execution_count": null,
      "outputs": []
    },
    {
      "cell_type": "code",
      "source": [
        "dict2['key2'] = 10"
      ],
      "metadata": {
        "id": "pJ05zai8f22R"
      },
      "execution_count": null,
      "outputs": []
    },
    {
      "cell_type": "code",
      "source": [
        "dict2['key3'] = 100"
      ],
      "metadata": {
        "id": "GDAM6ERCgB8J"
      },
      "execution_count": null,
      "outputs": []
    },
    {
      "cell_type": "code",
      "source": [
        "a = dict2['key1']"
      ],
      "metadata": {
        "id": "gWsbT9vzgE-K"
      },
      "execution_count": null,
      "outputs": []
    },
    {
      "cell_type": "code",
      "source": [
        "b = dict2['key2']"
      ],
      "metadata": {
        "id": "nWzVO2r8gWCu"
      },
      "execution_count": null,
      "outputs": []
    },
    {
      "cell_type": "code",
      "source": [
        "c = dict2['key3']"
      ],
      "metadata": {
        "id": "595wTDwRgV2e"
      },
      "execution_count": null,
      "outputs": []
    },
    {
      "cell_type": "code",
      "source": [
        "a, b, c"
      ],
      "metadata": {
        "id": "cfNJRg1igaTh",
        "outputId": "b0165c58-e512-4b1c-aa7a-330825ad6136",
        "colab": {
          "base_uri": "https://localhost:8080/"
        }
      },
      "execution_count": null,
      "outputs": [
        {
          "output_type": "execute_result",
          "data": {
            "text/plain": [
              "('Data Science', 10, 100)"
            ]
          },
          "metadata": {},
          "execution_count": 83
        }
      ]
    },
    {
      "cell_type": "code",
      "source": [
        "dict3 = {'chave1':1230, 'chave2':[22,453,73.4], 'chave3':['picanha', 'fraldinha', 'alcatra']}"
      ],
      "metadata": {
        "id": "7KNmQjFst8B9"
      },
      "execution_count": null,
      "outputs": []
    },
    {
      "cell_type": "code",
      "source": [
        "dict3['chave2']"
      ],
      "metadata": {
        "colab": {
          "base_uri": "https://localhost:8080/"
        },
        "id": "AG6PFRrJuSR8",
        "outputId": "36b9b8eb-7d6e-473a-a561-a623586a3c0f"
      },
      "execution_count": null,
      "outputs": [
        {
          "output_type": "execute_result",
          "data": {
            "text/plain": [
              "[22, 453, 73.4]"
            ]
          },
          "metadata": {},
          "execution_count": 5
        }
      ]
    },
    {
      "cell_type": "code",
      "source": [
        "# Acessando um item da lista, dentro do dicionário\n",
        "\n",
        "dict3['chave3'][0].upper()"
      ],
      "metadata": {
        "colab": {
          "base_uri": "https://localhost:8080/",
          "height": 36
        },
        "id": "uPON3sZSurUG",
        "outputId": "fd0b3cc8-2cd5-4fef-c347-99b46c505f2f"
      },
      "execution_count": null,
      "outputs": [
        {
          "output_type": "execute_result",
          "data": {
            "text/plain": [
              "'PICANHA'"
            ],
            "application/vnd.google.colaboratory.intrinsic+json": {
              "type": "string"
            }
          },
          "metadata": {},
          "execution_count": 6
        }
      ]
    },
    {
      "cell_type": "code",
      "source": [
        "# Operações com itens da lista, dentro do dicionário\n",
        "\n",
        "var1 = dict3['chave2'][0] - 2"
      ],
      "metadata": {
        "id": "_zfb3_EevEUX"
      },
      "execution_count": null,
      "outputs": []
    },
    {
      "cell_type": "code",
      "source": [
        "var1"
      ],
      "metadata": {
        "colab": {
          "base_uri": "https://localhost:8080/"
        },
        "id": "wm2_yuofvQVd",
        "outputId": "cd6a2840-1e46-4044-9ac4-1e5367691ddb"
      },
      "execution_count": null,
      "outputs": [
        {
          "output_type": "execute_result",
          "data": {
            "text/plain": [
              "20"
            ]
          },
          "metadata": {},
          "execution_count": 8
        }
      ]
    },
    {
      "cell_type": "code",
      "source": [
        "# Duas operações no mesmo comando, para atualizar um item dentro da lista\n",
        "\n",
        "dict3['chave2'][0] -= 2"
      ],
      "metadata": {
        "id": "8yGi1jgVvgAC"
      },
      "execution_count": null,
      "outputs": []
    },
    {
      "cell_type": "code",
      "source": [
        "dict3"
      ],
      "metadata": {
        "colab": {
          "base_uri": "https://localhost:8080/"
        },
        "id": "PE8SY5y2vtBD",
        "outputId": "1969fbf8-f409-4b6d-ffe0-1abe993ffca5"
      },
      "execution_count": null,
      "outputs": [
        {
          "output_type": "execute_result",
          "data": {
            "text/plain": [
              "{'chave1': 1230,\n",
              " 'chave2': [20, 453, 73.4],\n",
              " 'chave3': ['picanha', 'fraldinha', 'alcatra']}"
            ]
          },
          "metadata": {},
          "execution_count": 10
        }
      ]
    },
    {
      "cell_type": "markdown",
      "source": [
        "- Dicionários aninhados"
      ],
      "metadata": {
        "id": "INMRvARlwFD9"
      }
    },
    {
      "cell_type": "code",
      "source": [
        "# Criando dicionários aninhados\n",
        "\n",
        "dict_aninhado = {'key1':{'key2_aninhada': {'key3_aninhada':'Dict aninhado em Python'}}}"
      ],
      "metadata": {
        "id": "M87yG3D7wH1v"
      },
      "execution_count": null,
      "outputs": []
    },
    {
      "cell_type": "code",
      "source": [
        "dict_aninhado"
      ],
      "metadata": {
        "colab": {
          "base_uri": "https://localhost:8080/"
        },
        "id": "H9eWSshvwc70",
        "outputId": "2f76ea11-6607-4ede-d89c-6546cb0b6058"
      },
      "execution_count": null,
      "outputs": [
        {
          "output_type": "execute_result",
          "data": {
            "text/plain": [
              "{'key1': {'key2_aninhada': {'key3_aninhada': 'Dict aninhado em Python'}}}"
            ]
          },
          "metadata": {},
          "execution_count": 12
        }
      ]
    },
    {
      "cell_type": "code",
      "source": [
        "dict_aninhado['key1']['key2_aninhada']['key3_aninhada']"
      ],
      "metadata": {
        "colab": {
          "base_uri": "https://localhost:8080/",
          "height": 36
        },
        "id": "2GTsABzAwgCK",
        "outputId": "f6071cfc-58b5-48b4-d41a-e15f1fd6743c"
      },
      "execution_count": null,
      "outputs": [
        {
          "output_type": "execute_result",
          "data": {
            "text/plain": [
              "'Dict aninhado em Python'"
            ],
            "application/vnd.google.colaboratory.intrinsic+json": {
              "type": "string"
            }
          },
          "metadata": {},
          "execution_count": 13
        }
      ]
    },
    {
      "cell_type": "code",
      "source": [
        "# Arquivos JSON, são dicionários alinhados"
      ],
      "metadata": {
        "id": "XwQKJqmBw0Zu"
      },
      "execution_count": null,
      "outputs": []
    },
    {
      "cell_type": "markdown",
      "source": [
        "- Tuplas"
      ],
      "metadata": {
        "id": "PqTZfNG0w9Rk"
      }
    },
    {
      "cell_type": "code",
      "source": [
        "# Criando um tupla\n",
        "\n",
        "tupla1 = ('Geografia', 23, 'Elefante', 9.8, 'Python')"
      ],
      "metadata": {
        "id": "QNRDNMg5w-3V"
      },
      "execution_count": null,
      "outputs": []
    },
    {
      "cell_type": "code",
      "source": [
        "tupla1"
      ],
      "metadata": {
        "colab": {
          "base_uri": "https://localhost:8080/"
        },
        "id": "-hfaC3qAxZKQ",
        "outputId": "797a0073-44cc-4ba6-99e0-c3fca27a1040"
      },
      "execution_count": null,
      "outputs": [
        {
          "output_type": "execute_result",
          "data": {
            "text/plain": [
              "('Geografia', 23, 'Elefante', 9.8, 'Python')"
            ]
          },
          "metadata": {},
          "execution_count": 15
        }
      ]
    },
    {
      "cell_type": "code",
      "source": [
        "# A tupla é criada para ser imutável\n",
        "# Tuplas não suportam append()\n",
        "# Tupla não suporta del\n",
        "\n",
        "tupla1.append('Chocolate')"
      ],
      "metadata": {
        "id": "pVaVeb5gxdxn"
      },
      "execution_count": null,
      "outputs": []
    },
    {
      "cell_type": "code",
      "source": [
        "# A indexação é a mesma da lista e o dicionário\n",
        "\n",
        "tupla1[0]"
      ],
      "metadata": {
        "colab": {
          "base_uri": "https://localhost:8080/",
          "height": 36
        },
        "id": "YAiPpgRHxnme",
        "outputId": "a35dd977-5c0e-4354-b570-7f5bce94d1b9"
      },
      "execution_count": null,
      "outputs": [
        {
          "output_type": "execute_result",
          "data": {
            "text/plain": [
              "'Geografia'"
            ],
            "application/vnd.google.colaboratory.intrinsic+json": {
              "type": "string"
            }
          },
          "metadata": {},
          "execution_count": 16
        }
      ]
    },
    {
      "cell_type": "code",
      "source": [
        "# Algumas funções que podem ser feitas nas tuplas\n",
        "\n",
        "tupla1[1:]\n",
        "tupla1.index('Elefante')\n",
        "len(tupla1)"
      ],
      "metadata": {
        "colab": {
          "base_uri": "https://localhost:8080/"
        },
        "id": "94CLdfpkyL05",
        "outputId": "7412f381-e9fb-4568-86d4-746a73038c7c"
      },
      "execution_count": null,
      "outputs": [
        {
          "output_type": "execute_result",
          "data": {
            "text/plain": [
              "5"
            ]
          },
          "metadata": {},
          "execution_count": 19
        }
      ]
    },
    {
      "cell_type": "code",
      "source": [
        "# Convertendo minha tupla para uma lista\n",
        "\n",
        "lista_tupla1 = list(tupla1)"
      ],
      "metadata": {
        "id": "tfCnCydCy4L_"
      },
      "execution_count": null,
      "outputs": []
    },
    {
      "cell_type": "code",
      "source": [
        "lista_tupla1"
      ],
      "metadata": {
        "colab": {
          "base_uri": "https://localhost:8080/"
        },
        "id": "OxAaPxWkzKxE",
        "outputId": "e9a4f2e1-3420-404d-dc59-ce2d8aea52c2"
      },
      "execution_count": null,
      "outputs": [
        {
          "output_type": "execute_result",
          "data": {
            "text/plain": [
              "['Geografia', 23, 'Elefante', 9.8, 'Python']"
            ]
          },
          "metadata": {},
          "execution_count": 23
        }
      ]
    },
    {
      "cell_type": "code",
      "source": [
        "lista_tupla1.insert(2,'D')"
      ],
      "metadata": {
        "id": "Kvk0vxU5zM7R"
      },
      "execution_count": null,
      "outputs": []
    },
    {
      "cell_type": "code",
      "source": [
        "# Usando a função tuple() para converter uma lista para tupla\n",
        "\n",
        "t2 = tuple(lista_tupla1)"
      ],
      "metadata": {
        "id": "NhvYfo3fznS-"
      },
      "execution_count": null,
      "outputs": []
    },
    {
      "cell_type": "code",
      "source": [
        "t2"
      ],
      "metadata": {
        "colab": {
          "base_uri": "https://localhost:8080/"
        },
        "id": "dmLalyCAzv4N",
        "outputId": "3ded46ca-e526-492b-d3ea-0036f5d6e9c4"
      },
      "execution_count": null,
      "outputs": [
        {
          "output_type": "execute_result",
          "data": {
            "text/plain": [
              "('Geografia', 23, 'D', 'D', 'D', 'Elefante', 9.8, 'Python')"
            ]
          },
          "metadata": {},
          "execution_count": 34
        }
      ]
    }
  ]
}