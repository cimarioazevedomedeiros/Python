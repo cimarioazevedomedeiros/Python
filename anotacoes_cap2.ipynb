{
  "nbformat": 4,
  "nbformat_minor": 0,
  "metadata": {
    "colab": {
      "provenance": [],
      "authorship_tag": "ABX9TyOOIUJBLSbcw32moVrWYQa9",
      "include_colab_link": true
    },
    "kernelspec": {
      "name": "python3",
      "display_name": "Python 3"
    },
    "language_info": {
      "name": "python"
    }
  },
  "cells": [
    {
      "cell_type": "markdown",
      "metadata": {
        "id": "view-in-github",
        "colab_type": "text"
      },
      "source": [
        "<a href=\"https://colab.research.google.com/github/cimarioazevedomedeiros/Python/blob/main/anotacoes_cap2.ipynb\" target=\"_parent\"><img src=\"https://colab.research.google.com/assets/colab-badge.svg\" alt=\"Open In Colab\"/></a>"
      ]
    },
    {
      "cell_type": "markdown",
      "source": [
        "**Como usar o ChatGPT de forma correta ?**\n",
        "\n",
        "- Ainda possuem limitações\n",
        "- As várias relações estatísticas entre as palavras que você inseriu são usadas pelo modelo de IA para tentar determinar qual texto viria a seguir\n",
        "- Interessante a perspectiva, quando se verifica aquele texto que as IA começaram a prever texto, tal qual, um teclado de WA\n",
        "- Reinforcement Learning Humam Feedback\n",
        "- Melhor maneira de usar o ChatGPT\n",
        "  - Use frases ou perguntas claras e objetivas\n",
        "  - Avalie o resultado e certifique-se que cada resposta é coerente\n",
        "  - Se você não tem conhecimento sobre um determinado assunto e não consegue interpretar se o resutaldo do ChatGPT está correto\n",
        "- Você não será substituído por sistemas de IA. Será substituído por quem saber usar sistemas de IA.\n",
        "\n",
        "**Lab 1 - Introdução à linguagem Python**\n",
        "\n",
        "- Criado em 1989 e lançado em 1991\n",
        "- Guido van Rossum\n",
        "- Monty Python\n",
        "\n",
        "**Lab 1 - É fácil aprender a linguagem Python ?**\n",
        "\n",
        "- Site oficial: https://www.python.org/\n",
        "- Sintaxe simples e clara\n",
        "- Python 3\n",
        "- print()\n",
        "  - Imprime uma string na tela\n",
        "  - Tem que colocar ''\n",
        "- input()\n",
        "  - É usada para obter uma entrada do usuário e armazená-la na variável\n",
        "\n",
        "**Lab 1 - O ChatGPT pode substituir os professores ?**\n",
        "\n",
        "- Função é auxiliar os usuários, não pode substituir\n",
        "\n",
        "**Lab 1 - Gerando código Python com o ChatGPT**\n",
        "\n",
        "- Gere código Python que crie uma lista com os números entre 1 a 100 e então imprima os números pares, mas somente se o número for divisível por 4.\n",
        "\n",
        "**Lab 1 - Primeiros passos com a Lingugem Python - Parte 1/2**\n",
        "\n",
        "- Variável\n",
        "  - Área de memória, onde se guarda alguma coisa para se processar um programa de computador\n",
        "\n",
        "- =\n",
        "  - O símbolo de igual é uma atribuição em Python\n",
        "\n",
        "- ==\n",
        "  - Dois símbolos de igual, equivalente literalmente a igual\n",
        "\n",
        "- range\n",
        "  - Recebe dois valores como argumento\n",
        "  - O primeiro valor é o ínicio do seu intervalo\n",
        "  - O segundo valor é o final\n",
        "    - O segundo valor é excluído\n",
        "\n",
        "- list\n",
        "  - função para criar uma lista\n",
        "\n",
        "- type\n",
        "  - O tipo do dado\n",
        "\n",
        "- for (para)\n",
        "- in (dentro)\n",
        "  \n",
        "  - Logo, o seguinte código:\n",
        "\n",
        "  for numero in numeros:\n",
        "\n",
        "  - Poderá ser lido, da seguinte maneira\n",
        "    - \"Para cada número dentro da lista numeros, faça alguma coisa\"\n",
        "\n",
        "- if (se)\n",
        "  - Coloca uma condição\n",
        "\n",
        "- list comprehension\n",
        "  - É uma forma de simplificar o código e torna-lo mais rápido\n",
        "  - É uma linha de código"
      ],
      "metadata": {
        "id": "0y-PxD_OWQhT"
      }
    },
    {
      "cell_type": "code",
      "source": [
        "# Gere código Python que crie uma lista com os números entre 1 a 100 e então imprima os números pares, mas somente se o número for divisível por 4.\n",
        "\n",
        "numeros = list(range(1, 101))  # cria uma lista de números de 1 a 100\n",
        "\n",
        "for numero in numeros:\n",
        "    if numero % 2 == 0 and numero % 4 == 0:  # verifica se o número é par e divisível por 4\n",
        "        print(numero)  # imprime o número se for par e divisível por 4\n"
      ],
      "metadata": {
        "id": "uG5hEXb0WQys",
        "colab": {
          "base_uri": "https://localhost:8080/"
        },
        "outputId": "4deecde9-b532-4def-ee8b-9f7bd4c4664e"
      },
      "execution_count": null,
      "outputs": [
        {
          "output_type": "stream",
          "name": "stdout",
          "text": [
            "4\n",
            "8\n",
            "12\n",
            "16\n",
            "20\n",
            "24\n",
            "28\n",
            "32\n",
            "36\n",
            "40\n",
            "44\n",
            "48\n",
            "52\n",
            "56\n",
            "60\n",
            "64\n",
            "68\n",
            "72\n",
            "76\n",
            "80\n",
            "84\n",
            "88\n",
            "92\n",
            "96\n",
            "100\n"
          ]
        }
      ]
    },
    {
      "cell_type": "code",
      "source": [
        "# Gere um código Python que crie uma lista com os números entre 1 a 100 e então imprima os números pares, mas somente se o número for divisível por 4, usando list comprehension.\n",
        "\n",
        "numeros = list(range(1, 101))  # cria uma lista de números de 1 a 100\n",
        "pares_div_4 = [num for num in numeros if num % 2 == 0 and num % 4 == 0]  # list comprehension que seleciona apenas os números pares que são divisíveis por 4\n",
        "\n",
        "print(pares_div_4)  # imprime a lista com os números pares e divisíveis por 4\n"
      ],
      "metadata": {
        "colab": {
          "base_uri": "https://localhost:8080/"
        },
        "id": "PA-3HcU4rrZS",
        "outputId": "e07b34a8-89b8-498c-91e3-6189cfd63fb9"
      },
      "execution_count": null,
      "outputs": [
        {
          "output_type": "stream",
          "name": "stdout",
          "text": [
            "[4, 8, 12, 16, 20, 24, 28, 32, 36, 40, 44, 48, 52, 56, 60, 64, 68, 72, 76, 80, 84, 88, 92, 96, 100]\n"
          ]
        }
      ]
    },
    {
      "cell_type": "code",
      "source": [
        "# Basicamente, a função range() retorna um conjunto de números sequenciais, que podem ser definidos de acordo com os parâmetros utilizados pela função. Por padrão, o intervalo gerado por ela começa pelo número zero e é incrementado um a um até atingir o ponto de parada.\n",
        "\n",
        "for i in range(2,5):\n",
        "  print (i)"
      ],
      "metadata": {
        "id": "Ypzif1zSiwv_",
        "colab": {
          "base_uri": "https://localhost:8080/"
        },
        "outputId": "83b206bd-f949-44ed-aa11-5641bfa65f91"
      },
      "execution_count": null,
      "outputs": [
        {
          "output_type": "stream",
          "name": "stdout",
          "text": [
            "2\n",
            "3\n",
            "4\n"
          ]
        }
      ]
    }
  ]
}