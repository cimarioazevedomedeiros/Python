{
  "nbformat": 4,
  "nbformat_minor": 0,
  "metadata": {
    "colab": {
      "provenance": [],
      "authorship_tag": "ABX9TyPJ2jNfppcbx3yqVqLj+LSM",
      "include_colab_link": true
    },
    "kernelspec": {
      "name": "python3",
      "display_name": "Python 3"
    },
    "language_info": {
      "name": "python"
    }
  },
  "cells": [
    {
      "cell_type": "markdown",
      "metadata": {
        "id": "view-in-github",
        "colab_type": "text"
      },
      "source": [
        "<a href=\"https://colab.research.google.com/github/cimarioazevedomedeiros/Python/blob/main/anotacoes_cap3.ipynb\" target=\"_parent\"><img src=\"https://colab.research.google.com/assets/colab-badge.svg\" alt=\"Open In Colab\"/></a>"
      ]
    },
    {
      "cell_type": "markdown",
      "source": [
        "**Qual o grande equívoco que impede as pessoas aprenderem programação?**\n",
        "\n",
        "- Foque na resolução de problemas através da lógica de programação.\n",
        "\n",
        "- Programar é uma ferramenta. O fim é a resolução do problema.\n",
        "\n",
        "**O que é lógica de programação?**\n",
        "\n",
        "- Mentaliza o problema\n",
        "- Desenvolve a solução\n",
        "- Determina o processo\n",
        "- Traduz para máquina através da linguagem de programação\n",
        "\n",
        "**O que é pseudocódigo?**\n",
        "\n",
        "- Notação informal\n",
        "- Receita de bolo\n",
        "- Usado para planejar ou explicar um algoritmo antes de escrever o código efetivo.\n",
        "\n",
        "\n",
        "\n",
        "\n"
      ],
      "metadata": {
        "id": "wCK1a60FqOQ4"
      }
    },
    {
      "cell_type": "markdown",
      "source": [
        "# Primeiro Pseudocódigo - Calculadora de um paralelograma"
      ],
      "metadata": {
        "id": "p3IyMQAgism3"
      }
    },
    {
      "cell_type": "code",
      "source": [
        "Inicie\n",
        "\n",
        "  Exiba \"Bem vindo ao Calculador de Área de Paralelograma\"\n",
        "  Peça para o usuário inserir o comprimento da base\n",
        "  Armazene o comprimento da base em uma variável\n",
        "  Peça para o usuário inserir a altura\n",
        "  Armazene a altura em uma variável\n",
        "  Calcule a área do paralelograma: base * altura\n",
        "  Armazene o resultado em uma variável\n",
        "  Exiba o resultado\n",
        "\n",
        "Fim"
      ],
      "metadata": {
        "id": "2EaqCAZ1vaEK"
      },
      "execution_count": null,
      "outputs": []
    },
    {
      "cell_type": "markdown",
      "source": [
        "- Código"
      ],
      "metadata": {
        "id": "zbLnda32i-ng"
      }
    },
    {
      "cell_type": "code",
      "source": [
        "print(\"Bem vindo ao Calculador de Área de um Paralelograma\")"
      ],
      "metadata": {
        "colab": {
          "base_uri": "https://localhost:8080/"
        },
        "id": "VoyFbfEn_aIK",
        "outputId": "4034e11b-d68e-44eb-baa4-3936efbd896d"
      },
      "execution_count": null,
      "outputs": [
        {
          "output_type": "stream",
          "name": "stdout",
          "text": [
            "Bem vindo ao Calculador de Área de um Paralelograma\n"
          ]
        }
      ]
    },
    {
      "cell_type": "code",
      "source": [
        "base = float(input(\"Insira o comprimento da base: \"))"
      ],
      "metadata": {
        "colab": {
          "base_uri": "https://localhost:8080/"
        },
        "id": "fby8RKmG_k2D",
        "outputId": "0ddbd7be-b0a9-49ba-b9fd-744c357c57eb"
      },
      "execution_count": null,
      "outputs": [
        {
          "name": "stdout",
          "output_type": "stream",
          "text": [
            "Insira o comprimento da base: 4\n"
          ]
        }
      ]
    },
    {
      "cell_type": "code",
      "source": [
        "altura = float(input(\"Insira a altura: \"))"
      ],
      "metadata": {
        "colab": {
          "base_uri": "https://localhost:8080/"
        },
        "id": "jy1vxn1B_swr",
        "outputId": "dcce81a5-995f-4f04-824f-bcc02b4d72b1"
      },
      "execution_count": null,
      "outputs": [
        {
          "name": "stdout",
          "output_type": "stream",
          "text": [
            "Insira a altura: 6\n"
          ]
        }
      ]
    },
    {
      "cell_type": "code",
      "source": [
        "area = base * altura"
      ],
      "metadata": {
        "id": "ySLUM9ke_61B"
      },
      "execution_count": null,
      "outputs": []
    },
    {
      "cell_type": "code",
      "source": [
        "print(\"A área do paralelograma é: \", area)"
      ],
      "metadata": {
        "colab": {
          "base_uri": "https://localhost:8080/"
        },
        "id": "Y-hYC3amABgL",
        "outputId": "fa4c19eb-05a2-49cb-d46b-9597d095f945"
      },
      "execution_count": null,
      "outputs": [
        {
          "output_type": "stream",
          "name": "stdout",
          "text": [
            "A área do paralelograma é:  24.0\n"
          ]
        }
      ]
    },
    {
      "cell_type": "markdown",
      "source": [
        "# Segundo Psedocódigo - Calculadora Simples"
      ],
      "metadata": {
        "id": "XNrr7dHNA7xI"
      }
    },
    {
      "cell_type": "code",
      "source": [
        "Inicie\n",
        "\n",
        "  Exiba: \"Bem vindo a Calculadora simples\"\n",
        "  Informe o primeiro valor\n",
        "  Armazene o primeiro valor\n",
        "  Informe o segundo valor\n",
        "  Armazene o segundo valor\n",
        "  Escolha uma operação matemática\n",
        "  Armazene a operação\n",
        "  Execute a operação matemática\n",
        "  Armazene o resultado\n",
        "  Exiba o resultado\n",
        "\n",
        "Fim"
      ],
      "metadata": {
        "id": "CkBhTX50A_5f"
      },
      "execution_count": null,
      "outputs": []
    },
    {
      "cell_type": "markdown",
      "source": [
        "- Código"
      ],
      "metadata": {
        "id": "qv1RSRirjB2X"
      }
    },
    {
      "cell_type": "code",
      "source": [
        "print(\"Bem vindo a calculadora\")"
      ],
      "metadata": {
        "colab": {
          "base_uri": "https://localhost:8080/"
        },
        "id": "HxWiWXQPD6JN",
        "outputId": "f15ea0da-e4e1-4350-88c1-667e92ad92a5"
      },
      "execution_count": null,
      "outputs": [
        {
          "output_type": "stream",
          "name": "stdout",
          "text": [
            "Bem vindo a calculadora\n"
          ]
        }
      ]
    },
    {
      "cell_type": "code",
      "source": [
        "num1 = float(input(\"Insira o primeiro número: \"))"
      ],
      "metadata": {
        "colab": {
          "base_uri": "https://localhost:8080/"
        },
        "id": "O4f_7ka9EAmo",
        "outputId": "f35fd7c7-bcfc-434c-e03e-41d9a0ab3359"
      },
      "execution_count": null,
      "outputs": [
        {
          "name": "stdout",
          "output_type": "stream",
          "text": [
            "Insira o primeiro número: 5\n"
          ]
        }
      ]
    },
    {
      "cell_type": "code",
      "source": [
        "num2 = float(input(\"Insira o segundo número: \"))"
      ],
      "metadata": {
        "colab": {
          "base_uri": "https://localhost:8080/"
        },
        "id": "k8gyzD1IEIg3",
        "outputId": "2572f344-cc10-46d4-f4e8-df75b82842c7"
      },
      "execution_count": null,
      "outputs": [
        {
          "name": "stdout",
          "output_type": "stream",
          "text": [
            "Insira o segundo número: 4\n"
          ]
        }
      ]
    },
    {
      "cell_type": "code",
      "source": [
        "operacao = input(\"Selecione uma operação (+, -, *, /): \")"
      ],
      "metadata": {
        "colab": {
          "base_uri": "https://localhost:8080/"
        },
        "id": "ug5gME3oEOCE",
        "outputId": "b0cfefd4-bc08-4396-a310-9d2ba4b98057"
      },
      "execution_count": null,
      "outputs": [
        {
          "name": "stdout",
          "output_type": "stream",
          "text": [
            "Selecione uma operação (+, -, *, /): *\n"
          ]
        }
      ]
    },
    {
      "cell_type": "code",
      "source": [
        "if operacao == \"+\":\n",
        "  resultado = num1 + num2\n",
        "  print(\"O resultado é: \", resultado)\n",
        "\n",
        "elif operacao == \"-\":\n",
        "  resultado = num1 - num2\n",
        "  print(\"O resultado é: \", resultado)\n",
        "\n",
        "elif operacao == \"*\":\n",
        "  resultado = num1 * num2\n",
        "  print(\"O resultado é: \", resultado)\n",
        "\n",
        "elif operacao == \"/\":\n",
        "  print(\"O resultado é: \", resultado)\n",
        "\n",
        "else:\n",
        "  print(\"Operação inválida\")"
      ],
      "metadata": {
        "colab": {
          "base_uri": "https://localhost:8080/"
        },
        "id": "4Vccf0Y7EbfP",
        "outputId": "d37d11bb-7c74-4c91-c649-1e1907e1348e"
      },
      "execution_count": null,
      "outputs": [
        {
          "output_type": "stream",
          "name": "stdout",
          "text": [
            "O resultado é:  20.0\n"
          ]
        }
      ]
    },
    {
      "cell_type": "markdown",
      "source": [
        "# Terceiro Pseudocódigo - Bubble Sort"
      ],
      "metadata": {
        "id": "fB3i0daWHWu5"
      }
    },
    {
      "cell_type": "code",
      "source": [
        "Inicie\n",
        "\n",
        "  Faça o upload de uma arquivo\n",
        "  Selecione a categoria que deseja filtrar\n",
        "  Armazene o tipo de categoria\n",
        "  Escolha se a ordem é ascendente ou decrescente\n",
        "  Armazene o tipo de ordem\n",
        "  Organize a lista de arquivos\n",
        "  Exiba a lista de arquivos\n",
        "\n",
        "Fim"
      ],
      "metadata": {
        "id": "YIksbMJ7HVo1"
      },
      "execution_count": null,
      "outputs": []
    },
    {
      "cell_type": "code",
      "source": [
        "Inicie\n",
        "\n",
        "  Para cada elemento i no array de tamanho n\n",
        "    Para cada elemento j no array de tamanho n - 1\n",
        "      Se elemento i for maior que elemento j\n",
        "        Troque os elementos i e j\n",
        "  Exiba o array ordenado\n",
        "\n",
        "Fim\n",
        "\n",
        "## Array = lista de elemento"
      ],
      "metadata": {
        "id": "IcspqtErIcbx"
      },
      "execution_count": null,
      "outputs": []
    },
    {
      "cell_type": "markdown",
      "source": [
        "- Código"
      ],
      "metadata": {
        "id": "NeH8XemmjXpp"
      }
    },
    {
      "cell_type": "code",
      "source": [
        "lista = [6,7,8,3,10,19,4,1,0,61,30,16,17,82,29,34,43,21,11,39,56,67,12]"
      ],
      "metadata": {
        "id": "KHtds5qahn0u"
      },
      "execution_count": null,
      "outputs": []
    },
    {
      "cell_type": "code",
      "source": [
        "def bubble_sort(arr):\n",
        "    ## arr - parâmetro\n",
        "\n",
        "    n = len(arr)\n",
        "    ## len - pega o tamanho da lista\n",
        "\n",
        "    # Para cada elemento i do array\n",
        "    for i in range(n):\n",
        "\n",
        "        # Para cada elemento j do array\n",
        "        for j in range(0, n-i-1):\n",
        "\n",
        "            # Se elemento i for maior que elemento j\n",
        "            if arr[j] > arr[j+1]:\n",
        "\n",
        "                # Troque os elementos i e j\n",
        "                arr[j], arr[j+1] = arr[j+1], arr[j]\n",
        "\n",
        "    return arr"
      ],
      "metadata": {
        "id": "pU_p-FtQnBX2"
      },
      "execution_count": null,
      "outputs": []
    },
    {
      "cell_type": "code",
      "source": [
        "print(bubble_sort(lista))"
      ],
      "metadata": {
        "colab": {
          "base_uri": "https://localhost:8080/"
        },
        "id": "ixDP7BNonUeW",
        "outputId": "f7834a36-86a0-4488-ae5b-45b8913864d7"
      },
      "execution_count": null,
      "outputs": [
        {
          "output_type": "stream",
          "name": "stdout",
          "text": [
            "[0, 1, 3, 4, 6, 7, 8, 10, 11, 12, 16, 17, 19, 21, 29, 30, 34, 39, 43, 56, 61, 67, 82]\n"
          ]
        }
      ]
    },
    {
      "cell_type": "code",
      "source": [
        "lista2 = [60,17,28,3,10,19,4,1,0,61,30,16,17,82,29,34,43,21,11,39,56,67,12]"
      ],
      "metadata": {
        "id": "iDfH_BAondE0"
      },
      "execution_count": null,
      "outputs": []
    },
    {
      "cell_type": "code",
      "source": [
        "print(bubble_sort(lista2))"
      ],
      "metadata": {
        "colab": {
          "base_uri": "https://localhost:8080/"
        },
        "id": "JvR3RmiRnjU-",
        "outputId": "2a6c303c-ca39-4b1c-f78b-5beccfa9a266"
      },
      "execution_count": null,
      "outputs": [
        {
          "output_type": "stream",
          "name": "stdout",
          "text": [
            "[0, 1, 3, 4, 10, 11, 12, 16, 17, 17, 19, 21, 28, 29, 30, 34, 39, 43, 56, 60, 61, 67, 82]\n"
          ]
        }
      ]
    }
  ]
}