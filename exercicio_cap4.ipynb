{
  "nbformat": 4,
  "nbformat_minor": 0,
  "metadata": {
    "colab": {
      "provenance": [],
      "authorship_tag": "ABX9TyM/99au8fYYYl8kSX6XYiRn",
      "include_colab_link": true
    },
    "kernelspec": {
      "name": "python3",
      "display_name": "Python 3"
    },
    "language_info": {
      "name": "python"
    }
  },
  "cells": [
    {
      "cell_type": "markdown",
      "metadata": {
        "id": "view-in-github",
        "colab_type": "text"
      },
      "source": [
        "<a href=\"https://colab.research.google.com/github/cimarioazevedomedeiros/Python/blob/main/exercicio_cap4.ipynb\" target=\"_parent\"><img src=\"https://colab.research.google.com/assets/colab-badge.svg\" alt=\"Open In Colab\"/></a>"
      ]
    },
    {
      "cell_type": "markdown",
      "source": [
        "- Exercício 1"
      ],
      "metadata": {
        "id": "s1_giQnf0yCT"
      }
    },
    {
      "cell_type": "code",
      "execution_count": null,
      "metadata": {
        "colab": {
          "base_uri": "https://localhost:8080/"
        },
        "id": "PbMmZCrb0ZLs",
        "outputId": "074a20ef-bb8d-4b88-fd8f-f686c708fde2"
      },
      "outputs": [
        {
          "output_type": "execute_result",
          "data": {
            "text/plain": [
              "list[1, 2, 3, 4, 5, 6, 7, 8, 9, 10]"
            ]
          },
          "metadata": {},
          "execution_count": 1
        }
      ],
      "source": [
        "list[1,2,3,4,5,6,7,8,9,10]"
      ]
    },
    {
      "cell_type": "markdown",
      "source": [
        "- Exercício 2"
      ],
      "metadata": {
        "id": "SybIHo-20-LE"
      }
    },
    {
      "cell_type": "code",
      "source": [
        "list['Alface', 'Coentro', 'Cebola', 'Salsa', 'Rúcula']"
      ],
      "metadata": {
        "colab": {
          "base_uri": "https://localhost:8080/"
        },
        "id": "YMcrfYbH02gi",
        "outputId": "79daa1ee-bb7d-4abc-b56f-b4496294ab58"
      },
      "execution_count": null,
      "outputs": [
        {
          "output_type": "execute_result",
          "data": {
            "text/plain": [
              "list['Alface', 'Coentro', 'Cebola', 'Salsa', 'Rúcula']"
            ]
          },
          "metadata": {},
          "execution_count": 2
        }
      ]
    },
    {
      "cell_type": "markdown",
      "source": [
        "- Exercício 3"
      ],
      "metadata": {
        "id": "gPJZyDxh1Jn2"
      }
    },
    {
      "cell_type": "code",
      "source": [
        "x = 'Noar'"
      ],
      "metadata": {
        "id": "-Ac41vNk1LXz"
      },
      "execution_count": null,
      "outputs": []
    },
    {
      "cell_type": "code",
      "source": [
        "y = 'Medeiros'"
      ],
      "metadata": {
        "id": "hvw22GRp1aRO"
      },
      "execution_count": null,
      "outputs": []
    },
    {
      "cell_type": "code",
      "source": [
        "Dog = x + ' ' + y"
      ],
      "metadata": {
        "id": "GZCHv9yk1c-k"
      },
      "execution_count": null,
      "outputs": []
    },
    {
      "cell_type": "code",
      "source": [
        "Dog"
      ],
      "metadata": {
        "colab": {
          "base_uri": "https://localhost:8080/",
          "height": 36
        },
        "id": "v-ugRmpW1iiq",
        "outputId": "f775d126-fc80-422d-c83b-6f9378a74b6b"
      },
      "execution_count": null,
      "outputs": [
        {
          "output_type": "execute_result",
          "data": {
            "text/plain": [
              "'Noar Medeiros'"
            ],
            "application/vnd.google.colaboratory.intrinsic+json": {
              "type": "string"
            }
          },
          "metadata": {},
          "execution_count": 8
        }
      ]
    },
    {
      "cell_type": "markdown",
      "source": [
        "- Exercício 4"
      ],
      "metadata": {
        "id": "lNmq4oeh1lz4"
      }
    },
    {
      "cell_type": "code",
      "source": [
        "tupla = (1,2,2,3,4,4,4,5)"
      ],
      "metadata": {
        "id": "UjwfAcud1qKE"
      },
      "execution_count": null,
      "outputs": []
    },
    {
      "cell_type": "code",
      "source": [
        "tupla.count(4)"
      ],
      "metadata": {
        "colab": {
          "base_uri": "https://localhost:8080/"
        },
        "id": "xYc3dLOa16T7",
        "outputId": "b67eae9d-c5d0-482d-e3c4-8ee9df15a00c"
      },
      "execution_count": null,
      "outputs": [
        {
          "output_type": "execute_result",
          "data": {
            "text/plain": [
              "3"
            ]
          },
          "metadata": {},
          "execution_count": 11
        }
      ]
    },
    {
      "cell_type": "markdown",
      "source": [
        "- Exercício 5"
      ],
      "metadata": {
        "id": "9ElWBfQP195v"
      }
    },
    {
      "cell_type": "code",
      "source": [
        "dict = {}"
      ],
      "metadata": {
        "id": "HqR-3RPp19B0"
      },
      "execution_count": null,
      "outputs": []
    },
    {
      "cell_type": "code",
      "source": [
        "dict"
      ],
      "metadata": {
        "colab": {
          "base_uri": "https://localhost:8080/"
        },
        "id": "BTGt0Siz2PbT",
        "outputId": "ba6fb8e5-8768-439d-8f99-6878cf0dc747"
      },
      "execution_count": null,
      "outputs": [
        {
          "output_type": "execute_result",
          "data": {
            "text/plain": [
              "{}"
            ]
          },
          "metadata": {},
          "execution_count": 17
        }
      ]
    },
    {
      "cell_type": "markdown",
      "source": [
        "- Exercício 6"
      ],
      "metadata": {
        "id": "lVh5orls2QxK"
      }
    },
    {
      "cell_type": "code",
      "source": [
        "dict = {'Noar':5, 'Dom':3, 'Kátia':26}"
      ],
      "metadata": {
        "id": "Ljw4pVAd2TQI"
      },
      "execution_count": null,
      "outputs": []
    },
    {
      "cell_type": "code",
      "source": [
        "dict"
      ],
      "metadata": {
        "colab": {
          "base_uri": "https://localhost:8080/"
        },
        "id": "w9a1Fu912ce9",
        "outputId": "3ed3062e-358f-4164-a548-98bddc68bd48"
      },
      "execution_count": null,
      "outputs": [
        {
          "output_type": "execute_result",
          "data": {
            "text/plain": [
              "{'Noar': 5, 'Dom': 3, 'Kátia': 26}"
            ]
          },
          "metadata": {},
          "execution_count": 19
        }
      ]
    },
    {
      "cell_type": "markdown",
      "source": [
        "- Exercício 7"
      ],
      "metadata": {
        "id": "tqC48ylf2eYB"
      }
    },
    {
      "cell_type": "code",
      "source": [
        "dict['Italo'] = 26"
      ],
      "metadata": {
        "id": "m_jb6wFZ2g1p"
      },
      "execution_count": null,
      "outputs": []
    },
    {
      "cell_type": "code",
      "source": [
        "dict"
      ],
      "metadata": {
        "colab": {
          "base_uri": "https://localhost:8080/"
        },
        "id": "7QmiNyIs2-gB",
        "outputId": "3e6ecf10-db34-4271-a2d2-c8b0ab949062"
      },
      "execution_count": null,
      "outputs": [
        {
          "output_type": "execute_result",
          "data": {
            "text/plain": [
              "{'Noar': 5, 'Dom': 3, 'Kátia': 26, 'Italo': 26}"
            ]
          },
          "metadata": {},
          "execution_count": 24
        }
      ]
    },
    {
      "cell_type": "markdown",
      "source": [
        "- Exercício 8"
      ],
      "metadata": {
        "id": "sUFnb7aF3AaP"
      }
    },
    {
      "cell_type": "code",
      "source": [
        "dict = {'key1':25, 'key2':[26, 27, 28], 'key3':30}"
      ],
      "metadata": {
        "id": "761VTmta3Esh"
      },
      "execution_count": null,
      "outputs": []
    },
    {
      "cell_type": "code",
      "source": [
        "dict"
      ],
      "metadata": {
        "colab": {
          "base_uri": "https://localhost:8080/"
        },
        "id": "OpSlSlqz3S7n",
        "outputId": "99a6e94d-1cf6-464d-f2f1-dbfdab91887c"
      },
      "execution_count": null,
      "outputs": [
        {
          "output_type": "execute_result",
          "data": {
            "text/plain": [
              "{'key1': 25, 'key2': [26, 27, 28], 'key3': 30}"
            ]
          },
          "metadata": {},
          "execution_count": 26
        }
      ]
    },
    {
      "cell_type": "markdown",
      "source": [
        "- Exercício 9"
      ],
      "metadata": {
        "id": "RTh4gcms3WOa"
      }
    },
    {
      "cell_type": "code",
      "source": [
        "list = ['1', (8,9), {'key1':20, 'key2':50}, 4.5]"
      ],
      "metadata": {
        "id": "trxdWpgI3X1n"
      },
      "execution_count": null,
      "outputs": []
    },
    {
      "cell_type": "code",
      "source": [
        "list"
      ],
      "metadata": {
        "colab": {
          "base_uri": "https://localhost:8080/"
        },
        "id": "g0mJgZBy4CdT",
        "outputId": "ed59c12e-0cc5-4fc5-cdf1-fa0007740c02"
      },
      "execution_count": null,
      "outputs": [
        {
          "output_type": "execute_result",
          "data": {
            "text/plain": [
              "['1', (8, 9), {'key1': 20, 'key2': 50}, 4.5]"
            ]
          },
          "metadata": {},
          "execution_count": 31
        }
      ]
    },
    {
      "cell_type": "markdown",
      "source": [
        "- Exercício 10"
      ],
      "metadata": {
        "id": "DFj57NTe4F9_"
      }
    },
    {
      "cell_type": "code",
      "source": [
        "frase = 'Cientista de Dados é o profissional mais sexy do século XXI'"
      ],
      "metadata": {
        "id": "aH1ZgQYU4KIR"
      },
      "execution_count": null,
      "outputs": []
    },
    {
      "cell_type": "code",
      "source": [
        "frase[1:18]"
      ],
      "metadata": {
        "colab": {
          "base_uri": "https://localhost:8080/",
          "height": 36
        },
        "id": "a7onCRAS4Nll",
        "outputId": "8428ae30-8ae0-453f-9bec-894df6e35c3d"
      },
      "execution_count": null,
      "outputs": [
        {
          "output_type": "execute_result",
          "data": {
            "text/plain": [
              "'ientista de Dados'"
            ],
            "application/vnd.google.colaboratory.intrinsic+json": {
              "type": "string"
            }
          },
          "metadata": {},
          "execution_count": 33
        }
      ]
    }
  ]
}